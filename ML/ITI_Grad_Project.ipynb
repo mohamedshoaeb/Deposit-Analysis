{
 "cells": [
  {
   "cell_type": "markdown",
   "id": "1e9db86f",
   "metadata": {},
   "source": [
    "# Step 0: Setting Up the Environment "
   ]
  },
  {
   "cell_type": "markdown",
   "id": "45704a5e",
   "metadata": {},
   "source": [
    "import needed packages"
   ]
  },
  {
   "cell_type": "code",
   "execution_count": 1,
   "id": "66326e04",
   "metadata": {},
   "outputs": [],
   "source": [
    "import numpy as np\n",
    "import pandas as pd\n",
    "import matplotlib.pyplot as plt\n",
    "import seaborn as sns\n",
    "from sklearn.preprocessing import OneHotEncoder\n",
    "\n",
    "from sklearn.model_selection import train_test_split\n",
    "from sklearn.ensemble import RandomForestClassifier, AdaBoostClassifier, GradientBoostingClassifier\n",
    "from sklearn.linear_model import LogisticRegression\n",
    "from sklearn.metrics import accuracy_score, f1_score\n",
    "from sklearn import tree, svm\n",
    "from sklearn.naive_bayes import GaussianNB, MultinomialNB, ComplementNB, BernoulliNB\n",
    "from sklearn.neighbors import KNeighborsClassifier"
   ]
  },
  {
   "cell_type": "markdown",
   "id": "6c222f02",
   "metadata": {},
   "source": [
    "## The data cleaning function"
   ]
  },
  {
   "cell_type": "code",
   "execution_count": 2,
   "id": "0bc718b0",
   "metadata": {},
   "outputs": [],
   "source": [
    "def log_transform(value):\n",
    "    \"\"\"\n",
    "    This function does a log transformation for a specific value (negative or positive).\n",
    "    :param value: The value to transform.\n",
    "   \n",
    " \n",
    "    :return: The transformed value\n",
    "    \"\"\"\n",
    "    if value > 0:\n",
    "        return np.log(value)\n",
    "    elif value == 0:\n",
    "        return 0\n",
    "    return -np.log(-value)\n",
    "\n",
    "\n",
    "def transform(data: pd.DataFrame, \n",
    "              inplace=False, \n",
    "              trim_long_calls = False,\n",
    "              trim_poutcome = False,\n",
    "              trim_age = False,\n",
    "              log_transformation = True\n",
    "             ) -> pd.DataFrame | None:\n",
    "    \"\"\"\n",
    "    This function cleans the data frame INPLACE or as a new dataframe.\n",
    "    :param data: The data frame to clean\n",
    "    :param inplace: Whether to transform the dataframe in place or as a new dataframe\n",
    "    :param  drop_long_calls: whether or not you want to drop calls longer than 1000 seconds\n",
    "    :param trim: Whether tor not you want to drop umknown previous campaign outcome\n",
    "    :return: The transformed data frame as a new dataframe or None if clean happens in place\n",
    "    \"\"\"\n",
    "    # Make a copy of the dataframe\n",
    "    df = data if inplace else data.copy()\n",
    "    # Drop the ID column\n",
    "    df.drop(columns=['ID'], axis=1, inplace=True)\n",
    "    # The subscribed (Target column) needs to be a 0/1 column\n",
    "    df.subscribed = df.subscribed.replace({\"yes\": 1, \"no\": 0}).astype(int)\n",
    "    # we want to handle outliers in the AGE column by cliping (any point > 70 will be 70) or drop them\n",
    "    if trim_age:\n",
    "        # Drop outliers\n",
    "         df = df[df['age'] < 70]\n",
    "    else:\n",
    "        # Clip outliers\n",
    "        df.age = np.where(df.age > 70, \n",
    "            70, df.age)\n",
    "    # Handle the outliers in duration by clipping any rows above 1k to 1k or dropping them\n",
    "    if trim_long_calls:\n",
    "        df = df[df['duration'] < 1000]\n",
    "    else:\n",
    "        df.duration = np.where(df.duration > 1000, \n",
    "            1000, df.duration)\n",
    "    # we want to handle outliers in the campaign column by cliping (any point > 10 will be 10)\n",
    "    df.campaign = np.where(df.campaign > 10, \n",
    "        10, df.campaign)\n",
    "    # Replace unknown jobs with others\n",
    "    df.job = df.job.replace(to_replace=\"unknown\", value=\"Others\")\n",
    "    # Replace unknown contacts with others\n",
    "    df.contact = df.contact.replace(to_replace=\"unknown\", value=\"Others\")\n",
    "    # handle missing values in the poutcome column\n",
    "    if trim_poutcome:\n",
    "        # If we want to leave this column we will have to drop any missing values\n",
    "        df = df[df['poutcome'] != \"unknown\"]\n",
    "        df = pd.get_dummies(df, columns=[\"poutcome\"], prefix=\"P\")\n",
    "    else:\n",
    "        # Drop that column entirely\n",
    "        df.drop(columns=['poutcome'], axis=1, inplace=True)\n",
    "    # Handle outliers in the prevoius column   \n",
    "    df.previous = np.where(df.previous > 10, \n",
    "        10, df.previous)\n",
    "    # Drop pdays column\n",
    "    df.drop(columns=['pdays'], axis=1, inplace=True)\n",
    "    if log_transformation:\n",
    "        # Log transformation for balance column\n",
    "        df[\"log_balance\"] = df.balance.apply(log_transform)  \n",
    "        df.drop(columns=['balance'], axis=1, inplace=True)\n",
    "        \n",
    "    # One Hot Encoding for categorical features    \n",
    "    df = pd.get_dummies(df,columns=[\"job\"], prefix=\"J\")\n",
    "    df = pd.get_dummies(df,columns=[\"marital\"], prefix=\"M\")\n",
    "    df = pd.get_dummies(df,columns=[\"education\"], prefix=\"E\")\n",
    "    df = pd.get_dummies(df,columns=[\"default\"], prefix=\"D\")\n",
    "    df = pd.get_dummies(df,columns=[\"housing\"], prefix=\"H\")\n",
    "    df = pd.get_dummies(df,columns=[\"loan\"], prefix=\"L\")\n",
    "    df = pd.get_dummies(df,columns=[\"month\"], prefix=\"M\")\n",
    "    df = pd.get_dummies(df,columns=[\"contact\"], prefix=\"C\")\n",
    "        \n",
    "    # Return the transformed data frame as a new data frame\n",
    "    return None if inplace else df"
   ]
  },
  {
   "cell_type": "markdown",
   "id": "60822bff",
   "metadata": {},
   "source": [
    "## STEPS\n",
    "### 1-Split data into train, test, validate.\n",
    "### 2-EDA on train data.\n",
    "### 3- Clean and prepare data for the model.\n",
    "### 4-Model selection."
   ]
  },
  {
   "cell_type": "markdown",
   "id": "7291ee77",
   "metadata": {},
   "source": [
    "Load data"
   ]
  },
  {
   "cell_type": "code",
   "execution_count": 3,
   "id": "f7d612ff",
   "metadata": {},
   "outputs": [],
   "source": [
    "## Read data \n",
    "data = pd.read_csv(\"Term Deposit.csv\")"
   ]
  },
  {
   "cell_type": "markdown",
   "id": "77ae4849",
   "metadata": {},
   "source": [
    "### Split the data into train, test, validata (60, 20, 20)"
   ]
  },
  {
   "cell_type": "code",
   "execution_count": 4,
   "id": "c4fd5234",
   "metadata": {},
   "outputs": [],
   "source": [
    "train,test=train_test_split(data,test_size=.4,random_state=0)\n",
    "test,val=train_test_split(test,test_size=.5,random_state=0)"
   ]
  },
  {
   "cell_type": "markdown",
   "id": "6f66b5ee",
   "metadata": {},
   "source": [
    "## step2: EDA on train data"
   ]
  },
  {
   "cell_type": "markdown",
   "id": "75127347",
   "metadata": {},
   "source": [
    "### Getting to know the data"
   ]
  },
  {
   "cell_type": "code",
   "execution_count": 5,
   "id": "ef994eb1",
   "metadata": {},
   "outputs": [
    {
     "data": {
      "text/html": [
       "<div>\n",
       "<style scoped>\n",
       "    .dataframe tbody tr th:only-of-type {\n",
       "        vertical-align: middle;\n",
       "    }\n",
       "\n",
       "    .dataframe tbody tr th {\n",
       "        vertical-align: top;\n",
       "    }\n",
       "\n",
       "    .dataframe thead th {\n",
       "        text-align: right;\n",
       "    }\n",
       "</style>\n",
       "<table border=\"1\" class=\"dataframe\">\n",
       "  <thead>\n",
       "    <tr style=\"text-align: right;\">\n",
       "      <th></th>\n",
       "      <th>ID</th>\n",
       "      <th>age</th>\n",
       "      <th>job</th>\n",
       "      <th>marital</th>\n",
       "      <th>education</th>\n",
       "      <th>default</th>\n",
       "      <th>balance</th>\n",
       "      <th>housing</th>\n",
       "      <th>loan</th>\n",
       "      <th>contact</th>\n",
       "      <th>day</th>\n",
       "      <th>month</th>\n",
       "      <th>duration</th>\n",
       "      <th>campaign</th>\n",
       "      <th>pdays</th>\n",
       "      <th>previous</th>\n",
       "      <th>poutcome</th>\n",
       "      <th>subscribed</th>\n",
       "    </tr>\n",
       "  </thead>\n",
       "  <tbody>\n",
       "    <tr>\n",
       "      <th>610</th>\n",
       "      <td>7411</td>\n",
       "      <td>45</td>\n",
       "      <td>admin.</td>\n",
       "      <td>married</td>\n",
       "      <td>secondary</td>\n",
       "      <td>no</td>\n",
       "      <td>142</td>\n",
       "      <td>yes</td>\n",
       "      <td>yes</td>\n",
       "      <td>unknown</td>\n",
       "      <td>29</td>\n",
       "      <td>may</td>\n",
       "      <td>110</td>\n",
       "      <td>3</td>\n",
       "      <td>-1</td>\n",
       "      <td>0</td>\n",
       "      <td>unknown</td>\n",
       "      <td>no</td>\n",
       "    </tr>\n",
       "    <tr>\n",
       "      <th>16262</th>\n",
       "      <td>12162</td>\n",
       "      <td>41</td>\n",
       "      <td>management</td>\n",
       "      <td>married</td>\n",
       "      <td>tertiary</td>\n",
       "      <td>no</td>\n",
       "      <td>2031</td>\n",
       "      <td>yes</td>\n",
       "      <td>no</td>\n",
       "      <td>unknown</td>\n",
       "      <td>20</td>\n",
       "      <td>jun</td>\n",
       "      <td>7</td>\n",
       "      <td>3</td>\n",
       "      <td>-1</td>\n",
       "      <td>0</td>\n",
       "      <td>unknown</td>\n",
       "      <td>no</td>\n",
       "    </tr>\n",
       "    <tr>\n",
       "      <th>19988</th>\n",
       "      <td>3095</td>\n",
       "      <td>50</td>\n",
       "      <td>unemployed</td>\n",
       "      <td>married</td>\n",
       "      <td>secondary</td>\n",
       "      <td>no</td>\n",
       "      <td>-13</td>\n",
       "      <td>yes</td>\n",
       "      <td>no</td>\n",
       "      <td>unknown</td>\n",
       "      <td>14</td>\n",
       "      <td>may</td>\n",
       "      <td>554</td>\n",
       "      <td>1</td>\n",
       "      <td>-1</td>\n",
       "      <td>0</td>\n",
       "      <td>unknown</td>\n",
       "      <td>no</td>\n",
       "    </tr>\n",
       "    <tr>\n",
       "      <th>27156</th>\n",
       "      <td>8473</td>\n",
       "      <td>36</td>\n",
       "      <td>blue-collar</td>\n",
       "      <td>married</td>\n",
       "      <td>secondary</td>\n",
       "      <td>no</td>\n",
       "      <td>16402</td>\n",
       "      <td>yes</td>\n",
       "      <td>no</td>\n",
       "      <td>unknown</td>\n",
       "      <td>3</td>\n",
       "      <td>jun</td>\n",
       "      <td>406</td>\n",
       "      <td>3</td>\n",
       "      <td>-1</td>\n",
       "      <td>0</td>\n",
       "      <td>unknown</td>\n",
       "      <td>no</td>\n",
       "    </tr>\n",
       "    <tr>\n",
       "      <th>28152</th>\n",
       "      <td>5488</td>\n",
       "      <td>36</td>\n",
       "      <td>admin.</td>\n",
       "      <td>married</td>\n",
       "      <td>secondary</td>\n",
       "      <td>no</td>\n",
       "      <td>614</td>\n",
       "      <td>yes</td>\n",
       "      <td>no</td>\n",
       "      <td>unknown</td>\n",
       "      <td>23</td>\n",
       "      <td>may</td>\n",
       "      <td>13</td>\n",
       "      <td>5</td>\n",
       "      <td>-1</td>\n",
       "      <td>0</td>\n",
       "      <td>unknown</td>\n",
       "      <td>no</td>\n",
       "    </tr>\n",
       "  </tbody>\n",
       "</table>\n",
       "</div>"
      ],
      "text/plain": [
       "          ID  age          job  marital  education default  balance housing  \\\n",
       "610     7411   45       admin.  married  secondary      no      142     yes   \n",
       "16262  12162   41   management  married   tertiary      no     2031     yes   \n",
       "19988   3095   50   unemployed  married  secondary      no      -13     yes   \n",
       "27156   8473   36  blue-collar  married  secondary      no    16402     yes   \n",
       "28152   5488   36       admin.  married  secondary      no      614     yes   \n",
       "\n",
       "      loan  contact  day month  duration  campaign  pdays  previous poutcome  \\\n",
       "610    yes  unknown   29   may       110         3     -1         0  unknown   \n",
       "16262   no  unknown   20   jun         7         3     -1         0  unknown   \n",
       "19988   no  unknown   14   may       554         1     -1         0  unknown   \n",
       "27156   no  unknown    3   jun       406         3     -1         0  unknown   \n",
       "28152   no  unknown   23   may        13         5     -1         0  unknown   \n",
       "\n",
       "      subscribed  \n",
       "610           no  \n",
       "16262         no  \n",
       "19988         no  \n",
       "27156         no  \n",
       "28152         no  "
      ]
     },
     "execution_count": 5,
     "metadata": {},
     "output_type": "execute_result"
    }
   ],
   "source": [
    "train.head()"
   ]
  },
  {
   "cell_type": "code",
   "execution_count": 6,
   "id": "7179a83b",
   "metadata": {},
   "outputs": [
    {
     "name": "stdout",
     "output_type": "stream",
     "text": [
      "<class 'pandas.core.frame.DataFrame'>\n",
      "Int64Index: 18988 entries, 610 to 2732\n",
      "Data columns (total 18 columns):\n",
      " #   Column      Non-Null Count  Dtype \n",
      "---  ------      --------------  ----- \n",
      " 0   ID          18988 non-null  int64 \n",
      " 1   age         18988 non-null  int64 \n",
      " 2   job         18988 non-null  object\n",
      " 3   marital     18988 non-null  object\n",
      " 4   education   18988 non-null  object\n",
      " 5   default     18988 non-null  object\n",
      " 6   balance     18988 non-null  int64 \n",
      " 7   housing     18988 non-null  object\n",
      " 8   loan        18988 non-null  object\n",
      " 9   contact     18988 non-null  object\n",
      " 10  day         18988 non-null  int64 \n",
      " 11  month       18988 non-null  object\n",
      " 12  duration    18988 non-null  int64 \n",
      " 13  campaign    18988 non-null  int64 \n",
      " 14  pdays       18988 non-null  int64 \n",
      " 15  previous    18988 non-null  int64 \n",
      " 16  poutcome    18988 non-null  object\n",
      " 17  subscribed  18988 non-null  object\n",
      "dtypes: int64(8), object(10)\n",
      "memory usage: 2.8+ MB\n"
     ]
    }
   ],
   "source": [
    "train.info()"
   ]
  },
  {
   "cell_type": "code",
   "execution_count": 7,
   "id": "c7d7a515",
   "metadata": {},
   "outputs": [
    {
     "data": {
      "text/html": [
       "<div>\n",
       "<style scoped>\n",
       "    .dataframe tbody tr th:only-of-type {\n",
       "        vertical-align: middle;\n",
       "    }\n",
       "\n",
       "    .dataframe tbody tr th {\n",
       "        vertical-align: top;\n",
       "    }\n",
       "\n",
       "    .dataframe thead th {\n",
       "        text-align: right;\n",
       "    }\n",
       "</style>\n",
       "<table border=\"1\" class=\"dataframe\">\n",
       "  <thead>\n",
       "    <tr style=\"text-align: right;\">\n",
       "      <th></th>\n",
       "      <th>ID</th>\n",
       "      <th>age</th>\n",
       "      <th>balance</th>\n",
       "      <th>day</th>\n",
       "      <th>duration</th>\n",
       "      <th>campaign</th>\n",
       "      <th>pdays</th>\n",
       "      <th>previous</th>\n",
       "    </tr>\n",
       "  </thead>\n",
       "  <tbody>\n",
       "    <tr>\n",
       "      <th>count</th>\n",
       "      <td>18988.000000</td>\n",
       "      <td>18988.000000</td>\n",
       "      <td>18988.000000</td>\n",
       "      <td>18988.000000</td>\n",
       "      <td>18988.000000</td>\n",
       "      <td>18988.000000</td>\n",
       "      <td>18988.000000</td>\n",
       "      <td>18988.000000</td>\n",
       "    </tr>\n",
       "    <tr>\n",
       "      <th>mean</th>\n",
       "      <td>22539.078787</td>\n",
       "      <td>40.944228</td>\n",
       "      <td>1346.365705</td>\n",
       "      <td>15.875395</td>\n",
       "      <td>258.776806</td>\n",
       "      <td>2.774805</td>\n",
       "      <td>39.109227</td>\n",
       "      <td>0.569623</td>\n",
       "    </tr>\n",
       "    <tr>\n",
       "      <th>std</th>\n",
       "      <td>13056.548871</td>\n",
       "      <td>10.674685</td>\n",
       "      <td>2938.949996</td>\n",
       "      <td>8.304690</td>\n",
       "      <td>257.723311</td>\n",
       "      <td>3.142589</td>\n",
       "      <td>98.735828</td>\n",
       "      <td>2.723189</td>\n",
       "    </tr>\n",
       "    <tr>\n",
       "      <th>min</th>\n",
       "      <td>2.000000</td>\n",
       "      <td>18.000000</td>\n",
       "      <td>-8019.000000</td>\n",
       "      <td>1.000000</td>\n",
       "      <td>0.000000</td>\n",
       "      <td>1.000000</td>\n",
       "      <td>-1.000000</td>\n",
       "      <td>0.000000</td>\n",
       "    </tr>\n",
       "    <tr>\n",
       "      <th>25%</th>\n",
       "      <td>11221.750000</td>\n",
       "      <td>33.000000</td>\n",
       "      <td>71.000000</td>\n",
       "      <td>8.000000</td>\n",
       "      <td>104.000000</td>\n",
       "      <td>1.000000</td>\n",
       "      <td>-1.000000</td>\n",
       "      <td>0.000000</td>\n",
       "    </tr>\n",
       "    <tr>\n",
       "      <th>50%</th>\n",
       "      <td>22451.000000</td>\n",
       "      <td>39.000000</td>\n",
       "      <td>444.000000</td>\n",
       "      <td>16.000000</td>\n",
       "      <td>182.000000</td>\n",
       "      <td>2.000000</td>\n",
       "      <td>-1.000000</td>\n",
       "      <td>0.000000</td>\n",
       "    </tr>\n",
       "    <tr>\n",
       "      <th>75%</th>\n",
       "      <td>33850.750000</td>\n",
       "      <td>48.000000</td>\n",
       "      <td>1421.000000</td>\n",
       "      <td>21.000000</td>\n",
       "      <td>320.000000</td>\n",
       "      <td>3.000000</td>\n",
       "      <td>-1.000000</td>\n",
       "      <td>0.000000</td>\n",
       "    </tr>\n",
       "    <tr>\n",
       "      <th>max</th>\n",
       "      <td>45211.000000</td>\n",
       "      <td>94.000000</td>\n",
       "      <td>81204.000000</td>\n",
       "      <td>31.000000</td>\n",
       "      <td>4918.000000</td>\n",
       "      <td>63.000000</td>\n",
       "      <td>871.000000</td>\n",
       "      <td>275.000000</td>\n",
       "    </tr>\n",
       "  </tbody>\n",
       "</table>\n",
       "</div>"
      ],
      "text/plain": [
       "                 ID           age       balance           day      duration  \\\n",
       "count  18988.000000  18988.000000  18988.000000  18988.000000  18988.000000   \n",
       "mean   22539.078787     40.944228   1346.365705     15.875395    258.776806   \n",
       "std    13056.548871     10.674685   2938.949996      8.304690    257.723311   \n",
       "min        2.000000     18.000000  -8019.000000      1.000000      0.000000   \n",
       "25%    11221.750000     33.000000     71.000000      8.000000    104.000000   \n",
       "50%    22451.000000     39.000000    444.000000     16.000000    182.000000   \n",
       "75%    33850.750000     48.000000   1421.000000     21.000000    320.000000   \n",
       "max    45211.000000     94.000000  81204.000000     31.000000   4918.000000   \n",
       "\n",
       "           campaign         pdays      previous  \n",
       "count  18988.000000  18988.000000  18988.000000  \n",
       "mean       2.774805     39.109227      0.569623  \n",
       "std        3.142589     98.735828      2.723189  \n",
       "min        1.000000     -1.000000      0.000000  \n",
       "25%        1.000000     -1.000000      0.000000  \n",
       "50%        2.000000     -1.000000      0.000000  \n",
       "75%        3.000000     -1.000000      0.000000  \n",
       "max       63.000000    871.000000    275.000000  "
      ]
     },
     "execution_count": 7,
     "metadata": {},
     "output_type": "execute_result"
    }
   ],
   "source": [
    "train.describe()"
   ]
  },
  {
   "cell_type": "markdown",
   "id": "ef399cc2",
   "metadata": {},
   "source": [
    "### Age Column"
   ]
  },
  {
   "cell_type": "code",
   "execution_count": 8,
   "id": "b2d8adb9",
   "metadata": {},
   "outputs": [
    {
     "data": {
      "text/plain": [
       "31    860\n",
       "32    845\n",
       "33    834\n",
       "34    816\n",
       "35    786\n",
       "     ... \n",
       "88      2\n",
       "89      1\n",
       "94      1\n",
       "92      1\n",
       "93      1\n",
       "Name: age, Length: 73, dtype: int64"
      ]
     },
     "execution_count": 8,
     "metadata": {},
     "output_type": "execute_result"
    }
   ],
   "source": [
    "## let me see age with target \n",
    "train[\"age\"].value_counts()"
   ]
  },
  {
   "cell_type": "code",
   "execution_count": 9,
   "id": "39af4cb1",
   "metadata": {},
   "outputs": [
    {
     "data": {
      "text/plain": [
       "<Axes: xlabel='age', ylabel='Count'>"
      ]
     },
     "execution_count": 9,
     "metadata": {},
     "output_type": "execute_result"
    },
    {
     "data": {
      "image/png": "[encoded data removed]",
      "text/plain": [
       "<Figure size 640x480 with 1 Axes>"
      ]
     },
     "metadata": {},
     "output_type": "display_data"
    }
   ],
   "source": [
    "sns.histplot(train[\"age\"])"
   ]
  },
  {
   "cell_type": "code",
   "execution_count": 10,
   "id": "2c3f010d",
   "metadata": {},
   "outputs": [
    {
     "data": {
      "text/plain": [
       "<Axes: >"
      ]
     },
     "execution_count": 10,
     "metadata": {},
     "output_type": "execute_result"
    },
    {
     "data": {
      "image/png": "[encoded data removed]",
      "text/plain": [
       "<Figure size 640x480 with 1 Axes>"
      ]
     },
     "metadata": {},
     "output_type": "display_data"
    }
   ],
   "source": [
    "sns.boxplot(data[\"age\"])"
   ]
  },
  {
   "cell_type": "code",
   "execution_count": 11,
   "id": "89ed2e4d",
   "metadata": {},
   "outputs": [
    {
     "data": {
      "text/html": [
       "<div>\n",
       "<style scoped>\n",
       "    .dataframe tbody tr th:only-of-type {\n",
       "        vertical-align: middle;\n",
       "    }\n",
       "\n",
       "    .dataframe tbody tr th {\n",
       "        vertical-align: top;\n",
       "    }\n",
       "\n",
       "    .dataframe thead th {\n",
       "        text-align: right;\n",
       "    }\n",
       "</style>\n",
       "<table border=\"1\" class=\"dataframe\">\n",
       "  <thead>\n",
       "    <tr style=\"text-align: right;\">\n",
       "      <th></th>\n",
       "      <th>ID</th>\n",
       "      <th>age</th>\n",
       "      <th>job</th>\n",
       "      <th>marital</th>\n",
       "      <th>education</th>\n",
       "      <th>default</th>\n",
       "      <th>balance</th>\n",
       "      <th>housing</th>\n",
       "      <th>loan</th>\n",
       "      <th>contact</th>\n",
       "      <th>day</th>\n",
       "      <th>month</th>\n",
       "      <th>duration</th>\n",
       "      <th>campaign</th>\n",
       "      <th>pdays</th>\n",
       "      <th>previous</th>\n",
       "      <th>poutcome</th>\n",
       "      <th>subscribed</th>\n",
       "    </tr>\n",
       "  </thead>\n",
       "  <tbody>\n",
       "    <tr>\n",
       "      <th>21678</th>\n",
       "      <td>41516</td>\n",
       "      <td>71</td>\n",
       "      <td>retired</td>\n",
       "      <td>married</td>\n",
       "      <td>tertiary</td>\n",
       "      <td>no</td>\n",
       "      <td>14220</td>\n",
       "      <td>yes</td>\n",
       "      <td>no</td>\n",
       "      <td>cellular</td>\n",
       "      <td>9</td>\n",
       "      <td>sep</td>\n",
       "      <td>397</td>\n",
       "      <td>1</td>\n",
       "      <td>-1</td>\n",
       "      <td>0</td>\n",
       "      <td>unknown</td>\n",
       "      <td>yes</td>\n",
       "    </tr>\n",
       "    <tr>\n",
       "      <th>4476</th>\n",
       "      <td>31817</td>\n",
       "      <td>71</td>\n",
       "      <td>housemaid</td>\n",
       "      <td>married</td>\n",
       "      <td>primary</td>\n",
       "      <td>no</td>\n",
       "      <td>227</td>\n",
       "      <td>no</td>\n",
       "      <td>no</td>\n",
       "      <td>cellular</td>\n",
       "      <td>8</td>\n",
       "      <td>apr</td>\n",
       "      <td>74</td>\n",
       "      <td>1</td>\n",
       "      <td>-1</td>\n",
       "      <td>0</td>\n",
       "      <td>unknown</td>\n",
       "      <td>no</td>\n",
       "    </tr>\n",
       "    <tr>\n",
       "      <th>10941</th>\n",
       "      <td>43932</td>\n",
       "      <td>76</td>\n",
       "      <td>self-employed</td>\n",
       "      <td>married</td>\n",
       "      <td>unknown</td>\n",
       "      <td>no</td>\n",
       "      <td>4984</td>\n",
       "      <td>no</td>\n",
       "      <td>no</td>\n",
       "      <td>telephone</td>\n",
       "      <td>15</td>\n",
       "      <td>jun</td>\n",
       "      <td>126</td>\n",
       "      <td>3</td>\n",
       "      <td>48</td>\n",
       "      <td>2</td>\n",
       "      <td>success</td>\n",
       "      <td>no</td>\n",
       "    </tr>\n",
       "    <tr>\n",
       "      <th>10296</th>\n",
       "      <td>43291</td>\n",
       "      <td>77</td>\n",
       "      <td>retired</td>\n",
       "      <td>married</td>\n",
       "      <td>primary</td>\n",
       "      <td>no</td>\n",
       "      <td>29340</td>\n",
       "      <td>no</td>\n",
       "      <td>no</td>\n",
       "      <td>cellular</td>\n",
       "      <td>15</td>\n",
       "      <td>mar</td>\n",
       "      <td>257</td>\n",
       "      <td>1</td>\n",
       "      <td>91</td>\n",
       "      <td>2</td>\n",
       "      <td>other</td>\n",
       "      <td>yes</td>\n",
       "    </tr>\n",
       "    <tr>\n",
       "      <th>28780</th>\n",
       "      <td>41507</td>\n",
       "      <td>79</td>\n",
       "      <td>retired</td>\n",
       "      <td>married</td>\n",
       "      <td>secondary</td>\n",
       "      <td>no</td>\n",
       "      <td>723</td>\n",
       "      <td>no</td>\n",
       "      <td>no</td>\n",
       "      <td>telephone</td>\n",
       "      <td>9</td>\n",
       "      <td>sep</td>\n",
       "      <td>276</td>\n",
       "      <td>1</td>\n",
       "      <td>79</td>\n",
       "      <td>3</td>\n",
       "      <td>failure</td>\n",
       "      <td>yes</td>\n",
       "    </tr>\n",
       "    <tr>\n",
       "      <th>...</th>\n",
       "      <td>...</td>\n",
       "      <td>...</td>\n",
       "      <td>...</td>\n",
       "      <td>...</td>\n",
       "      <td>...</td>\n",
       "      <td>...</td>\n",
       "      <td>...</td>\n",
       "      <td>...</td>\n",
       "      <td>...</td>\n",
       "      <td>...</td>\n",
       "      <td>...</td>\n",
       "      <td>...</td>\n",
       "      <td>...</td>\n",
       "      <td>...</td>\n",
       "      <td>...</td>\n",
       "      <td>...</td>\n",
       "      <td>...</td>\n",
       "      <td>...</td>\n",
       "    </tr>\n",
       "    <tr>\n",
       "      <th>15352</th>\n",
       "      <td>42663</td>\n",
       "      <td>81</td>\n",
       "      <td>retired</td>\n",
       "      <td>divorced</td>\n",
       "      <td>tertiary</td>\n",
       "      <td>no</td>\n",
       "      <td>0</td>\n",
       "      <td>no</td>\n",
       "      <td>no</td>\n",
       "      <td>cellular</td>\n",
       "      <td>14</td>\n",
       "      <td>jan</td>\n",
       "      <td>357</td>\n",
       "      <td>1</td>\n",
       "      <td>-1</td>\n",
       "      <td>0</td>\n",
       "      <td>unknown</td>\n",
       "      <td>no</td>\n",
       "    </tr>\n",
       "    <tr>\n",
       "      <th>11218</th>\n",
       "      <td>40989</td>\n",
       "      <td>72</td>\n",
       "      <td>retired</td>\n",
       "      <td>married</td>\n",
       "      <td>primary</td>\n",
       "      <td>no</td>\n",
       "      <td>2079</td>\n",
       "      <td>no</td>\n",
       "      <td>no</td>\n",
       "      <td>cellular</td>\n",
       "      <td>13</td>\n",
       "      <td>aug</td>\n",
       "      <td>100</td>\n",
       "      <td>1</td>\n",
       "      <td>191</td>\n",
       "      <td>3</td>\n",
       "      <td>other</td>\n",
       "      <td>no</td>\n",
       "    </tr>\n",
       "    <tr>\n",
       "      <th>11052</th>\n",
       "      <td>45110</td>\n",
       "      <td>78</td>\n",
       "      <td>management</td>\n",
       "      <td>married</td>\n",
       "      <td>unknown</td>\n",
       "      <td>no</td>\n",
       "      <td>1780</td>\n",
       "      <td>yes</td>\n",
       "      <td>no</td>\n",
       "      <td>cellular</td>\n",
       "      <td>25</td>\n",
       "      <td>oct</td>\n",
       "      <td>211</td>\n",
       "      <td>2</td>\n",
       "      <td>185</td>\n",
       "      <td>7</td>\n",
       "      <td>success</td>\n",
       "      <td>yes</td>\n",
       "    </tr>\n",
       "    <tr>\n",
       "      <th>14447</th>\n",
       "      <td>41759</td>\n",
       "      <td>77</td>\n",
       "      <td>retired</td>\n",
       "      <td>married</td>\n",
       "      <td>primary</td>\n",
       "      <td>no</td>\n",
       "      <td>989</td>\n",
       "      <td>no</td>\n",
       "      <td>no</td>\n",
       "      <td>telephone</td>\n",
       "      <td>12</td>\n",
       "      <td>oct</td>\n",
       "      <td>95</td>\n",
       "      <td>2</td>\n",
       "      <td>-1</td>\n",
       "      <td>0</td>\n",
       "      <td>unknown</td>\n",
       "      <td>no</td>\n",
       "    </tr>\n",
       "    <tr>\n",
       "      <th>17098</th>\n",
       "      <td>42997</td>\n",
       "      <td>75</td>\n",
       "      <td>blue-collar</td>\n",
       "      <td>married</td>\n",
       "      <td>secondary</td>\n",
       "      <td>no</td>\n",
       "      <td>6053</td>\n",
       "      <td>no</td>\n",
       "      <td>no</td>\n",
       "      <td>cellular</td>\n",
       "      <td>11</td>\n",
       "      <td>feb</td>\n",
       "      <td>865</td>\n",
       "      <td>2</td>\n",
       "      <td>190</td>\n",
       "      <td>1</td>\n",
       "      <td>failure</td>\n",
       "      <td>no</td>\n",
       "    </tr>\n",
       "  </tbody>\n",
       "</table>\n",
       "<p>214 rows × 18 columns</p>\n",
       "</div>"
      ],
      "text/plain": [
       "          ID  age            job   marital  education default  balance  \\\n",
       "21678  41516   71        retired   married   tertiary      no    14220   \n",
       "4476   31817   71      housemaid   married    primary      no      227   \n",
       "10941  43932   76  self-employed   married    unknown      no     4984   \n",
       "10296  43291   77        retired   married    primary      no    29340   \n",
       "28780  41507   79        retired   married  secondary      no      723   \n",
       "...      ...  ...            ...       ...        ...     ...      ...   \n",
       "15352  42663   81        retired  divorced   tertiary      no        0   \n",
       "11218  40989   72        retired   married    primary      no     2079   \n",
       "11052  45110   78     management   married    unknown      no     1780   \n",
       "14447  41759   77        retired   married    primary      no      989   \n",
       "17098  42997   75    blue-collar   married  secondary      no     6053   \n",
       "\n",
       "      housing loan    contact  day month  duration  campaign  pdays  previous  \\\n",
       "21678     yes   no   cellular    9   sep       397         1     -1         0   \n",
       "4476       no   no   cellular    8   apr        74         1     -1         0   \n",
       "10941      no   no  telephone   15   jun       126         3     48         2   \n",
       "10296      no   no   cellular   15   mar       257         1     91         2   \n",
       "28780      no   no  telephone    9   sep       276         1     79         3   \n",
       "...       ...  ...        ...  ...   ...       ...       ...    ...       ...   \n",
       "15352      no   no   cellular   14   jan       357         1     -1         0   \n",
       "11218      no   no   cellular   13   aug       100         1    191         3   \n",
       "11052     yes   no   cellular   25   oct       211         2    185         7   \n",
       "14447      no   no  telephone   12   oct        95         2     -1         0   \n",
       "17098      no   no   cellular   11   feb       865         2    190         1   \n",
       "\n",
       "      poutcome subscribed  \n",
       "21678  unknown        yes  \n",
       "4476   unknown         no  \n",
       "10941  success         no  \n",
       "10296    other        yes  \n",
       "28780  failure        yes  \n",
       "...        ...        ...  \n",
       "15352  unknown         no  \n",
       "11218    other         no  \n",
       "11052  success        yes  \n",
       "14447  unknown         no  \n",
       "17098  failure         no  \n",
       "\n",
       "[214 rows x 18 columns]"
      ]
     },
     "execution_count": 11,
     "metadata": {},
     "output_type": "execute_result"
    }
   ],
   "source": [
    "train[train[\"age\"]>70]"
   ]
  },
  {
   "cell_type": "markdown",
   "id": "0da9711e",
   "metadata": {},
   "source": [
    "```python\n",
    "## we want handle outliers by cliping any point > 70 will be 70 \n",
    "train.loc[train[\"age\"]>70,\"age\"]=70\n",
    "````"
   ]
  },
  {
   "cell_type": "code",
   "execution_count": 12,
   "id": "791c7412",
   "metadata": {},
   "outputs": [
    {
     "data": {
      "text/plain": [
       "<Axes: xlabel='age', ylabel='Count'>"
      ]
     },
     "execution_count": 12,
     "metadata": {},
     "output_type": "execute_result"
    },
    {
     "data": {
      "image/png": "[encoded data removed]",
      "text/plain": [
       "<Figure size 640x480 with 1 Axes>"
      ]
     },
     "metadata": {},
     "output_type": "display_data"
    }
   ],
   "source": [
    "sns.histplot(train[\"age\"])"
   ]
  },
  {
   "cell_type": "code",
   "execution_count": 13,
   "id": "cb596956",
   "metadata": {},
   "outputs": [
    {
     "data": {
      "text/plain": [
       "<Axes: xlabel='age', ylabel='subscribed'>"
      ]
     },
     "execution_count": 13,
     "metadata": {},
     "output_type": "execute_result"
    },
    {
     "data": {
      "image/png": "[encoded data removed]",
      "text/plain": [
       "<Figure size 640x480 with 1 Axes>"
      ]
     },
     "metadata": {},
     "output_type": "display_data"
    }
   ],
   "source": [
    "sns.barplot(data=train,x=\"age\",y=\"subscribed\")"
   ]
  },
  {
   "cell_type": "markdown",
   "id": "9f715a9f",
   "metadata": {},
   "source": [
    "### Job"
   ]
  },
  {
   "cell_type": "code",
   "execution_count": 14,
   "id": "5523579e",
   "metadata": {},
   "outputs": [
    {
     "data": {
      "text/plain": [
       "blue-collar      4167\n",
       "management       4034\n",
       "technician       3129\n",
       "admin.           2113\n",
       "services         1723\n",
       "retired           963\n",
       "self-employed     693\n",
       "entrepreneur      620\n",
       "unemployed        542\n",
       "housemaid         516\n",
       "student           363\n",
       "unknown           125\n",
       "Name: job, dtype: int64"
      ]
     },
     "execution_count": 14,
     "metadata": {},
     "output_type": "execute_result"
    }
   ],
   "source": [
    "train[\"job\"].value_counts()"
   ]
  },
  {
   "cell_type": "markdown",
   "id": "70183e20",
   "metadata": {},
   "source": [
    "```python\n",
    "# Replace unknown jobs with others for better readability.\n",
    "train.loc[train[\"job\"]==\"unknown\",\"job\"]=\"others\"\n",
    "```"
   ]
  },
  {
   "cell_type": "code",
   "execution_count": 15,
   "id": "fd46a4b9",
   "metadata": {},
   "outputs": [
    {
     "data": {
      "text/plain": [
       "<Axes: xlabel='job', ylabel='count'>"
      ]
     },
     "execution_count": 15,
     "metadata": {},
     "output_type": "execute_result"
    },
    {
     "data": {
      "image/png": "[encoded data removed]",
      "text/plain": [
       "<Figure size 1500x1000 with 1 Axes>"
      ]
     },
     "metadata": {},
     "output_type": "display_data"
    }
   ],
   "source": [
    "plt.figure(figsize=(15,10))\n",
    "sns.countplot(data=train,x=\"job\")"
   ]
  },
  {
   "attachments": {
    "download%20%281%29.png": {
     "image/png": "[encoded data removed]"
    }
   },
   "cell_type": "markdown",
   "id": "5afd8962",
   "metadata": {},
   "source": [
    "![download%20%281%29.png](attachment:download%20%281%29.png)"
   ]
  },
  {
   "cell_type": "markdown",
   "id": "8c5bb5b6",
   "metadata": {},
   "source": [
    "Job needs to be encoded (Using one hot encoding)\n"
   ]
  },
  {
   "cell_type": "markdown",
   "id": "9a512b1f",
   "metadata": {},
   "source": [
    "### Marital Column"
   ]
  },
  {
   "cell_type": "code",
   "execution_count": 16,
   "id": "ab858c8c",
   "metadata": {},
   "outputs": [
    {
     "data": {
      "text/plain": [
       "<Axes: xlabel='marital', ylabel='subscribed'>"
      ]
     },
     "execution_count": 16,
     "metadata": {},
     "output_type": "execute_result"
    },
    {
     "data": {
      "image/png": "[encoded data removed]",
      "text/plain": [
       "<Figure size 640x480 with 1 Axes>"
      ]
     },
     "metadata": {},
     "output_type": "display_data"
    }
   ],
   "source": [
    "temp = train.copy()\n",
    "temp['subscribed'] = train.subscribed.replace({\"yes\": 1, \"no\": 0}).astype(int)\n",
    "sns.barplot(data=temp,x=\"marital\",y=\"subscribed\")"
   ]
  },
  {
   "cell_type": "markdown",
   "id": "fad8a804",
   "metadata": {},
   "source": [
    "Marital column need to be encoded using One Hot Encoding"
   ]
  },
  {
   "cell_type": "markdown",
   "id": "6619d640",
   "metadata": {},
   "source": [
    "### Education"
   ]
  },
  {
   "cell_type": "code",
   "execution_count": 17,
   "id": "04b23a79",
   "metadata": {},
   "outputs": [
    {
     "data": {
      "text/plain": [
       "secondary    9661\n",
       "tertiary     5609\n",
       "primary      2951\n",
       "unknown       767\n",
       "Name: education, dtype: int64"
      ]
     },
     "execution_count": 17,
     "metadata": {},
     "output_type": "execute_result"
    }
   ],
   "source": [
    "train[\"education\"].value_counts()"
   ]
  },
  {
   "cell_type": "code",
   "execution_count": 18,
   "id": "34c615f6",
   "metadata": {},
   "outputs": [
    {
     "data": {
      "text/plain": [
       "<Axes: xlabel='education', ylabel='subscribed'>"
      ]
     },
     "execution_count": 18,
     "metadata": {},
     "output_type": "execute_result"
    },
    {
     "data": {
      "image/png": "[encoded data removed]",
      "text/plain": [
       "<Figure size 640x480 with 1 Axes>"
      ]
     },
     "metadata": {},
     "output_type": "display_data"
    }
   ],
   "source": [
    "sns.barplot(data=temp,x=\"education\",y=\"subscribed\")"
   ]
  },
  {
   "cell_type": "markdown",
   "id": "49314a41",
   "metadata": {},
   "source": [
    "Education column need to be encoded using One Hot Encoding"
   ]
  },
  {
   "cell_type": "markdown",
   "id": "429d833a",
   "metadata": {},
   "source": [
    "### Default Column"
   ]
  },
  {
   "cell_type": "code",
   "execution_count": 19,
   "id": "030e31bc",
   "metadata": {},
   "outputs": [
    {
     "data": {
      "text/plain": [
       "no     18621\n",
       "yes      367\n",
       "Name: default, dtype: int64"
      ]
     },
     "execution_count": 19,
     "metadata": {},
     "output_type": "execute_result"
    }
   ],
   "source": [
    "train[\"default\"].value_counts()"
   ]
  },
  {
   "cell_type": "code",
   "execution_count": 20,
   "id": "faf1e36c",
   "metadata": {},
   "outputs": [
    {
     "data": {
      "text/plain": [
       "<Axes: xlabel='default', ylabel='subscribed'>"
      ]
     },
     "execution_count": 20,
     "metadata": {},
     "output_type": "execute_result"
    },
    {
     "data": {
      "image/png": "[encoded data removed]",
      "text/plain": [
       "<Figure size 640x480 with 1 Axes>"
      ]
     },
     "metadata": {},
     "output_type": "display_data"
    }
   ],
   "source": [
    "sns.barplot(data=temp,x=\"default\",y=\"subscribed\")"
   ]
  },
  {
   "cell_type": "markdown",
   "id": "05f3316a",
   "metadata": {},
   "source": [
    "Marital column need to be encoded using One Hot Encoding"
   ]
  },
  {
   "cell_type": "markdown",
   "id": "0c890964",
   "metadata": {},
   "source": [
    "### Balance"
   ]
  },
  {
   "cell_type": "code",
   "execution_count": 21,
   "id": "74b2567c",
   "metadata": {},
   "outputs": [
    {
     "data": {
      "text/plain": [
       " 0       1495\n",
       " 1         86\n",
       " 4         63\n",
       " 2         62\n",
       " 6         45\n",
       "         ... \n",
       " 3977       1\n",
       "-1613       1\n",
       " 4391       1\n",
       "-167        1\n",
       " 2097       1\n",
       "Name: balance, Length: 5081, dtype: int64"
      ]
     },
     "execution_count": 21,
     "metadata": {},
     "output_type": "execute_result"
    }
   ],
   "source": [
    "train[\"balance\"].value_counts()"
   ]
  },
  {
   "cell_type": "code",
   "execution_count": 22,
   "id": "79640ab7",
   "metadata": {},
   "outputs": [
    {
     "data": {
      "text/plain": [
       "81204"
      ]
     },
     "execution_count": 22,
     "metadata": {},
     "output_type": "execute_result"
    }
   ],
   "source": [
    "train[\"balance\"].max()"
   ]
  },
  {
   "cell_type": "code",
   "execution_count": 23,
   "id": "c4927878",
   "metadata": {},
   "outputs": [
    {
     "data": {
      "text/plain": [
       "-8019"
      ]
     },
     "execution_count": 23,
     "metadata": {},
     "output_type": "execute_result"
    }
   ],
   "source": [
    "train[\"balance\"].min()"
   ]
  },
  {
   "cell_type": "code",
   "execution_count": 24,
   "id": "f5598e0d",
   "metadata": {},
   "outputs": [
    {
     "data": {
      "image/png": "[encoded data removed]",
      "text/plain": [
       "<Figure size 1500x1000 with 1 Axes>"
      ]
     },
     "metadata": {},
     "output_type": "display_data"
    }
   ],
   "source": [
    "plt.figure(figsize=(15,10))\n",
    "sns.stripplot(train[\"balance\"])\n",
    "plt.show()"
   ]
  },
  {
   "attachments": {
    "download%20%282%29.png": {
     "image/png": "[encoded data removed]"
    }
   },
   "cell_type": "markdown",
   "id": "26fe8759",
   "metadata": {},
   "source": [
    "![download%20%282%29.png](attachment:download%20%282%29.png)"
   ]
  },
  {
   "cell_type": "code",
   "execution_count": 25,
   "id": "ac70d9fe",
   "metadata": {},
   "outputs": [
    {
     "data": {
      "text/plain": [
       "<Axes: xlabel='balance', ylabel='Count'>"
      ]
     },
     "execution_count": 25,
     "metadata": {},
     "output_type": "execute_result"
    },
    {
     "data": {
      "image/png": "[encoded data removed]",
      "text/plain": [
       "<Figure size 640x480 with 1 Axes>"
      ]
     },
     "metadata": {},
     "output_type": "display_data"
    }
   ],
   "source": [
    "sns.histplot(train[train[\"balance\"]<10].balance)"
   ]
  },
  {
   "attachments": {
    "download%20%283%29.png": {
     "image/png": "[encoded data removed]"
    }
   },
   "cell_type": "markdown",
   "id": "e6b24631",
   "metadata": {},
   "source": [
    "![download%20%283%29.png](attachment:download%20%283%29.png)"
   ]
  },
  {
   "cell_type": "markdown",
   "id": "bdc2b251",
   "metadata": {},
   "source": [
    "### Housing Column"
   ]
  },
  {
   "cell_type": "code",
   "execution_count": 26,
   "id": "061a2c4e",
   "metadata": {},
   "outputs": [
    {
     "data": {
      "text/plain": [
       "yes    10627\n",
       "no      8361\n",
       "Name: housing, dtype: int64"
      ]
     },
     "execution_count": 26,
     "metadata": {},
     "output_type": "execute_result"
    }
   ],
   "source": [
    "## housing column  \n",
    "train[\"housing\"].value_counts()"
   ]
  },
  {
   "cell_type": "code",
   "execution_count": 27,
   "id": "b8c838a5",
   "metadata": {},
   "outputs": [
    {
     "data": {
      "text/plain": [
       "<Axes: xlabel='housing', ylabel='subscribed'>"
      ]
     },
     "execution_count": 27,
     "metadata": {},
     "output_type": "execute_result"
    },
    {
     "data": {
      "image/png": "[encoded data removed]",
      "text/plain": [
       "<Figure size 640x480 with 1 Axes>"
      ]
     },
     "metadata": {},
     "output_type": "display_data"
    }
   ],
   "source": [
    "sns.barplot(data=temp,y=\"subscribed\",x=\"housing\")"
   ]
  },
  {
   "cell_type": "markdown",
   "id": "70e76459",
   "metadata": {},
   "source": [
    "Housing column needs to be encoded using OHE"
   ]
  },
  {
   "cell_type": "markdown",
   "id": "2c38aee9",
   "metadata": {},
   "source": [
    "### Loan Column"
   ]
  },
  {
   "cell_type": "code",
   "execution_count": 28,
   "id": "3f6318a5",
   "metadata": {},
   "outputs": [
    {
     "data": {
      "text/plain": [
       "no     15918\n",
       "yes     3070\n",
       "Name: loan, dtype: int64"
      ]
     },
     "execution_count": 28,
     "metadata": {},
     "output_type": "execute_result"
    }
   ],
   "source": [
    "train[\"loan\"].value_counts()"
   ]
  },
  {
   "cell_type": "code",
   "execution_count": 29,
   "id": "b1f99021",
   "metadata": {},
   "outputs": [
    {
     "data": {
      "text/plain": [
       "<Axes: xlabel='loan', ylabel='subscribed'>"
      ]
     },
     "execution_count": 29,
     "metadata": {},
     "output_type": "execute_result"
    },
    {
     "data": {
      "image/png": "[encoded data removed]",
      "text/plain": [
       "<Figure size 640x480 with 1 Axes>"
      ]
     },
     "metadata": {},
     "output_type": "display_data"
    }
   ],
   "source": [
    "sns.barplot(data=temp,y=\"subscribed\",x=\"loan\")"
   ]
  },
  {
   "cell_type": "markdown",
   "id": "a7033f7e",
   "metadata": {},
   "source": [
    "Loan column needs to be encoded using OHE"
   ]
  },
  {
   "cell_type": "markdown",
   "id": "0c84446d",
   "metadata": {},
   "source": [
    "### Contact Column"
   ]
  },
  {
   "cell_type": "code",
   "execution_count": 30,
   "id": "9b7a1daa",
   "metadata": {},
   "outputs": [
    {
     "data": {
      "text/plain": [
       "cellular     12268\n",
       "unknown       5493\n",
       "telephone     1227\n",
       "Name: contact, dtype: int64"
      ]
     },
     "execution_count": 30,
     "metadata": {},
     "output_type": "execute_result"
    }
   ],
   "source": [
    "train[\"contact\"].value_counts()"
   ]
  },
  {
   "cell_type": "markdown",
   "id": "5c47837d",
   "metadata": {},
   "source": [
    "```python\n",
    "# replace unknown with others \n",
    "train.loc[train[\"contact\"]==\"unknown\",\"contact\"]=\"others\"\n",
    "```"
   ]
  },
  {
   "cell_type": "code",
   "execution_count": 31,
   "id": "b4025830",
   "metadata": {},
   "outputs": [
    {
     "data": {
      "text/plain": [
       "<Axes: xlabel='contact', ylabel='subscribed'>"
      ]
     },
     "execution_count": 31,
     "metadata": {},
     "output_type": "execute_result"
    },
    {
     "data": {
      "image/png": "[encoded data removed]",
      "text/plain": [
       "<Figure size 640x480 with 1 Axes>"
      ]
     },
     "metadata": {},
     "output_type": "display_data"
    }
   ],
   "source": [
    "### let me see which most subscribtion \n",
    "sns.barplot(data=temp,y=\"subscribed\",x=\"contact\")"
   ]
  },
  {
   "cell_type": "markdown",
   "id": "7cc7b0b0",
   "metadata": {},
   "source": [
    "Loan column needs to be encoded using OHE"
   ]
  },
  {
   "cell_type": "markdown",
   "id": "55f157ad",
   "metadata": {},
   "source": [
    "### Day & Month Columns"
   ]
  },
  {
   "cell_type": "code",
   "execution_count": 32,
   "id": "ac9eb3e3",
   "metadata": {},
   "outputs": [
    {
     "data": {
      "text/plain": [
       "31"
      ]
     },
     "execution_count": 32,
     "metadata": {},
     "output_type": "execute_result"
    }
   ],
   "source": [
    "### let me see day \n",
    "train[\"day\"].nunique()"
   ]
  },
  {
   "cell_type": "code",
   "execution_count": 33,
   "id": "96c74985",
   "metadata": {},
   "outputs": [
    {
     "data": {
      "text/plain": [
       "12"
      ]
     },
     "execution_count": 33,
     "metadata": {},
     "output_type": "execute_result"
    }
   ],
   "source": [
    "train[\"month\"].nunique()"
   ]
  },
  {
   "cell_type": "code",
   "execution_count": 34,
   "id": "10bb8609",
   "metadata": {},
   "outputs": [
    {
     "data": {
      "text/plain": [
       "may    5849\n",
       "jul    2902\n",
       "aug    2630\n",
       "jun    2209\n",
       "nov    1660\n",
       "apr    1240\n",
       "feb    1085\n",
       "jan     571\n",
       "oct     301\n",
       "sep     258\n",
       "mar     202\n",
       "dec      81\n",
       "Name: month, dtype: int64"
      ]
     },
     "execution_count": 34,
     "metadata": {},
     "output_type": "execute_result"
    }
   ],
   "source": [
    "train[\"month\"].value_counts()"
   ]
  },
  {
   "cell_type": "code",
   "execution_count": 35,
   "id": "70ee1462",
   "metadata": {},
   "outputs": [
    {
     "data": {
      "text/plain": [
       "<Axes: xlabel='month', ylabel='subscribed'>"
      ]
     },
     "execution_count": 35,
     "metadata": {},
     "output_type": "execute_result"
    },
    {
     "data": {
      "image/png": "[encoded data removed]",
      "text/plain": [
       "<Figure size 640x480 with 1 Axes>"
      ]
     },
     "metadata": {},
     "output_type": "display_data"
    }
   ],
   "source": [
    "sns.barplot(x=temp.month,y=temp.subscribed)"
   ]
  },
  {
   "cell_type": "markdown",
   "id": "e04070f0",
   "metadata": {},
   "source": [
    "Month column needs to be one hot enceded"
   ]
  },
  {
   "cell_type": "markdown",
   "id": "803481c5",
   "metadata": {},
   "source": [
    "### Duration"
   ]
  },
  {
   "cell_type": "code",
   "execution_count": 36,
   "id": "80f2e8d8",
   "metadata": {},
   "outputs": [
    {
     "data": {
      "text/plain": [
       "<Axes: xlabel='duration', ylabel='Count'>"
      ]
     },
     "execution_count": 36,
     "metadata": {},
     "output_type": "execute_result"
    },
    {
     "data": {
      "image/png": "[encoded data removed]",
      "text/plain": [
       "<Figure size 640x480 with 1 Axes>"
      ]
     },
     "metadata": {},
     "output_type": "display_data"
    }
   ],
   "source": [
    "#### duration \n",
    "sns.histplot(train.duration)"
   ]
  },
  {
   "cell_type": "code",
   "execution_count": 37,
   "id": "34b96c24",
   "metadata": {},
   "outputs": [
    {
     "data": {
      "text/plain": [
       "count    18988.000000\n",
       "mean       258.776806\n",
       "std        257.723311\n",
       "min          0.000000\n",
       "25%        104.000000\n",
       "50%        182.000000\n",
       "75%        320.000000\n",
       "max       4918.000000\n",
       "Name: duration, dtype: float64"
      ]
     },
     "execution_count": 37,
     "metadata": {},
     "output_type": "execute_result"
    }
   ],
   "source": [
    "train.duration.describe()"
   ]
  },
  {
   "cell_type": "markdown",
   "id": "832445b1",
   "metadata": {},
   "source": [
    "```python\n",
    "### handle outliers by cliping or drop them\n",
    "train.loc[train[\"duration\"]>1000,\"duration\"]=1000\n",
    "```"
   ]
  },
  {
   "attachments": {
    "download%20%285%29.png": {
     "image/png": "[encoded data removed]"
    }
   },
   "cell_type": "markdown",
   "id": "576987f5",
   "metadata": {},
   "source": [
    "![download%20%285%29.png](attachment:download%20%285%29.png)"
   ]
  },
  {
   "cell_type": "markdown",
   "id": "af3a73f4",
   "metadata": {},
   "source": [
    "### Campaign"
   ]
  },
  {
   "cell_type": "code",
   "execution_count": 38,
   "id": "a160ded1",
   "metadata": {},
   "outputs": [
    {
     "data": {
      "text/plain": [
       "<Axes: xlabel='campaign', ylabel='Count'>"
      ]
     },
     "execution_count": 38,
     "metadata": {},
     "output_type": "execute_result"
    },
    {
     "data": {
      "image/png": "[encoded data removed]",
      "text/plain": [
       "<Figure size 640x480 with 1 Axes>"
      ]
     },
     "metadata": {},
     "output_type": "display_data"
    }
   ],
   "source": [
    "### campaign \n",
    "sns.histplot(train[\"campaign\"])"
   ]
  },
  {
   "cell_type": "code",
   "execution_count": 39,
   "id": "3b23a244",
   "metadata": {},
   "outputs": [
    {
     "data": {
      "text/plain": [
       "1     7319\n",
       "2     5300\n",
       "3     2284\n",
       "4     1482\n",
       "5      758\n",
       "6      568\n",
       "7      330\n",
       "8      204\n",
       "9      135\n",
       "10     108\n",
       "11      76\n",
       "12      62\n",
       "13      52\n",
       "14      46\n",
       "15      34\n",
       "16      34\n",
       "17      33\n",
       "20      23\n",
       "18      22\n",
       "19      20\n",
       "25      10\n",
       "29      10\n",
       "28       9\n",
       "24       8\n",
       "23       8\n",
       "22       8\n",
       "26       7\n",
       "27       6\n",
       "21       5\n",
       "38       3\n",
       "30       3\n",
       "32       3\n",
       "33       3\n",
       "34       3\n",
       "31       2\n",
       "43       2\n",
       "55       1\n",
       "44       1\n",
       "50       1\n",
       "37       1\n",
       "63       1\n",
       "36       1\n",
       "35       1\n",
       "41       1\n",
       "Name: campaign, dtype: int64"
      ]
     },
     "execution_count": 39,
     "metadata": {},
     "output_type": "execute_result"
    }
   ],
   "source": [
    "train[\"campaign\"].value_counts()"
   ]
  },
  {
   "cell_type": "markdown",
   "id": "bafa1b8c",
   "metadata": {},
   "source": [
    "```python\n",
    "### clipping >10   10\n",
    "train.loc[train[\"campaign\"]>10,\"campaign\"]=10\n",
    "```"
   ]
  },
  {
   "cell_type": "markdown",
   "id": "e689846d",
   "metadata": {},
   "source": [
    "### Poutcome"
   ]
  },
  {
   "cell_type": "code",
   "execution_count": 40,
   "id": "ff4710e1",
   "metadata": {},
   "outputs": [
    {
     "data": {
      "text/plain": [
       "unknown    15601\n",
       "failure     1991\n",
       "other        749\n",
       "success      647\n",
       "Name: poutcome, dtype: int64"
      ]
     },
     "execution_count": 40,
     "metadata": {},
     "output_type": "execute_result"
    }
   ],
   "source": [
    "train[\"poutcome\"].value_counts()"
   ]
  },
  {
   "cell_type": "markdown",
   "id": "c3f40d82",
   "metadata": {},
   "source": [
    "```python\n",
    "### drop  this column or rows with missing values \n",
    "train=train.drop(columns=[\"poutcome\"],axis=1)\n",
    "```"
   ]
  },
  {
   "cell_type": "markdown",
   "id": "bae49132",
   "metadata": {},
   "source": [
    "### pdays"
   ]
  },
  {
   "cell_type": "code",
   "execution_count": 41,
   "id": "31ba07f2",
   "metadata": {},
   "outputs": [
    {
     "data": {
      "text/plain": [
       "-1      15597\n",
       " 182       70\n",
       " 92        58\n",
       " 91        53\n",
       " 183       49\n",
       "        ...  \n",
       " 415        1\n",
       " 561        1\n",
       " 233        1\n",
       " 616        1\n",
       " 792        1\n",
       "Name: pdays, Length: 453, dtype: int64"
      ]
     },
     "execution_count": 41,
     "metadata": {},
     "output_type": "execute_result"
    }
   ],
   "source": [
    "train[\"pdays\"].value_counts()"
   ]
  },
  {
   "cell_type": "markdown",
   "id": "3ea7fca5",
   "metadata": {},
   "source": [
    "```python\n",
    "#### drop this column  \n",
    "train=train.drop(columns=[\"pdays\"],axis=1)\n",
    "```"
   ]
  },
  {
   "cell_type": "markdown",
   "id": "762f85ad",
   "metadata": {},
   "source": [
    "### Previous Column"
   ]
  },
  {
   "cell_type": "code",
   "execution_count": 42,
   "id": "fa16620b",
   "metadata": {},
   "outputs": [
    {
     "data": {
      "text/plain": [
       "<Axes: xlabel='previous', ylabel='Count'>"
      ]
     },
     "execution_count": 42,
     "metadata": {},
     "output_type": "execute_result"
    },
    {
     "data": {
      "image/png": "[encoded data removed]",
      "text/plain": [
       "<Figure size 640x480 with 1 Axes>"
      ]
     },
     "metadata": {},
     "output_type": "display_data"
    }
   ],
   "source": [
    "sns.histplot(train[\"previous\"])"
   ]
  },
  {
   "cell_type": "code",
   "execution_count": 43,
   "id": "bfaf682d",
   "metadata": {},
   "outputs": [
    {
     "data": {
      "text/plain": [
       "0      15597\n",
       "1       1124\n",
       "2        899\n",
       "3        457\n",
       "4        307\n",
       "5        183\n",
       "6        100\n",
       "7         91\n",
       "8         48\n",
       "9         42\n",
       "11        29\n",
       "10        28\n",
       "13        15\n",
       "12         9\n",
       "14         8\n",
       "15         8\n",
       "17         6\n",
       "16         4\n",
       "19         4\n",
       "22         4\n",
       "25         4\n",
       "23         4\n",
       "20         3\n",
       "27         3\n",
       "29         2\n",
       "21         2\n",
       "41         1\n",
       "26         1\n",
       "275        1\n",
       "38         1\n",
       "28         1\n",
       "18         1\n",
       "58         1\n",
       "Name: previous, dtype: int64"
      ]
     },
     "execution_count": 43,
     "metadata": {},
     "output_type": "execute_result"
    }
   ],
   "source": [
    "train.previous.value_counts()"
   ]
  },
  {
   "cell_type": "markdown",
   "id": "52647ab6",
   "metadata": {},
   "source": [
    "```python\n",
    "# We need to clip any values more than 10 to 10\n",
    "train.loc[train[\"previous\"]>10,\"previous\"]=10\n",
    "```"
   ]
  },
  {
   "cell_type": "markdown",
   "id": "791e76ee",
   "metadata": {},
   "source": [
    "## Transform the data"
   ]
  },
  {
   "cell_type": "code",
   "execution_count": 44,
   "id": "bb964d31",
   "metadata": {},
   "outputs": [],
   "source": [
    "df = train.copy()\n",
    "data = transform(df)"
   ]
  },
  {
   "cell_type": "markdown",
   "id": "637a53e3",
   "metadata": {},
   "source": [
    "The log transformation for the balance Feature"
   ]
  },
  {
   "cell_type": "code",
   "execution_count": 45,
   "id": "9c527134",
   "metadata": {},
   "outputs": [
    {
     "data": {
      "text/plain": [
       "<Axes: xlabel='log_balance', ylabel='Count'>"
      ]
     },
     "execution_count": 45,
     "metadata": {},
     "output_type": "execute_result"
    },
    {
     "data": {
      "image/png": "[encoded data removed]",
      "text/plain": [
       "<Figure size 640x480 with 1 Axes>"
      ]
     },
     "metadata": {},
     "output_type": "display_data"
    }
   ],
   "source": [
    "sns.histplot(data.log_balance)"
   ]
  },
  {
   "cell_type": "markdown",
   "id": "3f4226a1",
   "metadata": {},
   "source": [
    "## Getting to know the transformed data"
   ]
  },
  {
   "cell_type": "code",
   "execution_count": 46,
   "id": "e89aa5ac",
   "metadata": {},
   "outputs": [
    {
     "data": {
      "text/html": [
       "<div>\n",
       "<style scoped>\n",
       "    .dataframe tbody tr th:only-of-type {\n",
       "        vertical-align: middle;\n",
       "    }\n",
       "\n",
       "    .dataframe tbody tr th {\n",
       "        vertical-align: top;\n",
       "    }\n",
       "\n",
       "    .dataframe thead th {\n",
       "        text-align: right;\n",
       "    }\n",
       "</style>\n",
       "<table border=\"1\" class=\"dataframe\">\n",
       "  <thead>\n",
       "    <tr style=\"text-align: right;\">\n",
       "      <th></th>\n",
       "      <th>age</th>\n",
       "      <th>day</th>\n",
       "      <th>duration</th>\n",
       "      <th>campaign</th>\n",
       "      <th>previous</th>\n",
       "      <th>subscribed</th>\n",
       "      <th>log_balance</th>\n",
       "      <th>J_Others</th>\n",
       "      <th>J_admin.</th>\n",
       "      <th>J_blue-collar</th>\n",
       "      <th>...</th>\n",
       "      <th>M_jul</th>\n",
       "      <th>M_jun</th>\n",
       "      <th>M_mar</th>\n",
       "      <th>M_may</th>\n",
       "      <th>M_nov</th>\n",
       "      <th>M_oct</th>\n",
       "      <th>M_sep</th>\n",
       "      <th>C_Others</th>\n",
       "      <th>C_cellular</th>\n",
       "      <th>C_telephone</th>\n",
       "    </tr>\n",
       "  </thead>\n",
       "  <tbody>\n",
       "    <tr>\n",
       "      <th>610</th>\n",
       "      <td>45</td>\n",
       "      <td>29</td>\n",
       "      <td>110</td>\n",
       "      <td>3</td>\n",
       "      <td>0</td>\n",
       "      <td>0</td>\n",
       "      <td>4.955827</td>\n",
       "      <td>0</td>\n",
       "      <td>1</td>\n",
       "      <td>0</td>\n",
       "      <td>...</td>\n",
       "      <td>0</td>\n",
       "      <td>0</td>\n",
       "      <td>0</td>\n",
       "      <td>1</td>\n",
       "      <td>0</td>\n",
       "      <td>0</td>\n",
       "      <td>0</td>\n",
       "      <td>1</td>\n",
       "      <td>0</td>\n",
       "      <td>0</td>\n",
       "    </tr>\n",
       "    <tr>\n",
       "      <th>16262</th>\n",
       "      <td>41</td>\n",
       "      <td>20</td>\n",
       "      <td>7</td>\n",
       "      <td>3</td>\n",
       "      <td>0</td>\n",
       "      <td>0</td>\n",
       "      <td>7.616284</td>\n",
       "      <td>0</td>\n",
       "      <td>0</td>\n",
       "      <td>0</td>\n",
       "      <td>...</td>\n",
       "      <td>0</td>\n",
       "      <td>1</td>\n",
       "      <td>0</td>\n",
       "      <td>0</td>\n",
       "      <td>0</td>\n",
       "      <td>0</td>\n",
       "      <td>0</td>\n",
       "      <td>1</td>\n",
       "      <td>0</td>\n",
       "      <td>0</td>\n",
       "    </tr>\n",
       "    <tr>\n",
       "      <th>19988</th>\n",
       "      <td>50</td>\n",
       "      <td>14</td>\n",
       "      <td>554</td>\n",
       "      <td>1</td>\n",
       "      <td>0</td>\n",
       "      <td>0</td>\n",
       "      <td>-2.564949</td>\n",
       "      <td>0</td>\n",
       "      <td>0</td>\n",
       "      <td>0</td>\n",
       "      <td>...</td>\n",
       "      <td>0</td>\n",
       "      <td>0</td>\n",
       "      <td>0</td>\n",
       "      <td>1</td>\n",
       "      <td>0</td>\n",
       "      <td>0</td>\n",
       "      <td>0</td>\n",
       "      <td>1</td>\n",
       "      <td>0</td>\n",
       "      <td>0</td>\n",
       "    </tr>\n",
       "    <tr>\n",
       "      <th>27156</th>\n",
       "      <td>36</td>\n",
       "      <td>3</td>\n",
       "      <td>406</td>\n",
       "      <td>3</td>\n",
       "      <td>0</td>\n",
       "      <td>0</td>\n",
       "      <td>9.705159</td>\n",
       "      <td>0</td>\n",
       "      <td>0</td>\n",
       "      <td>1</td>\n",
       "      <td>...</td>\n",
       "      <td>0</td>\n",
       "      <td>1</td>\n",
       "      <td>0</td>\n",
       "      <td>0</td>\n",
       "      <td>0</td>\n",
       "      <td>0</td>\n",
       "      <td>0</td>\n",
       "      <td>1</td>\n",
       "      <td>0</td>\n",
       "      <td>0</td>\n",
       "    </tr>\n",
       "    <tr>\n",
       "      <th>28152</th>\n",
       "      <td>36</td>\n",
       "      <td>23</td>\n",
       "      <td>13</td>\n",
       "      <td>5</td>\n",
       "      <td>0</td>\n",
       "      <td>0</td>\n",
       "      <td>6.419995</td>\n",
       "      <td>0</td>\n",
       "      <td>1</td>\n",
       "      <td>0</td>\n",
       "      <td>...</td>\n",
       "      <td>0</td>\n",
       "      <td>0</td>\n",
       "      <td>0</td>\n",
       "      <td>1</td>\n",
       "      <td>0</td>\n",
       "      <td>0</td>\n",
       "      <td>0</td>\n",
       "      <td>1</td>\n",
       "      <td>0</td>\n",
       "      <td>0</td>\n",
       "    </tr>\n",
       "  </tbody>\n",
       "</table>\n",
       "<p>5 rows × 47 columns</p>\n",
       "</div>"
      ],
      "text/plain": [
       "       age  day  duration  campaign  previous  subscribed  log_balance  \\\n",
       "610     45   29       110         3         0           0     4.955827   \n",
       "16262   41   20         7         3         0           0     7.616284   \n",
       "19988   50   14       554         1         0           0    -2.564949   \n",
       "27156   36    3       406         3         0           0     9.705159   \n",
       "28152   36   23        13         5         0           0     6.419995   \n",
       "\n",
       "       J_Others  J_admin.  J_blue-collar  ...  M_jul  M_jun  M_mar  M_may  \\\n",
       "610           0         1              0  ...      0      0      0      1   \n",
       "16262         0         0              0  ...      0      1      0      0   \n",
       "19988         0         0              0  ...      0      0      0      1   \n",
       "27156         0         0              1  ...      0      1      0      0   \n",
       "28152         0         1              0  ...      0      0      0      1   \n",
       "\n",
       "       M_nov  M_oct  M_sep  C_Others  C_cellular  C_telephone  \n",
       "610        0      0      0         1           0            0  \n",
       "16262      0      0      0         1           0            0  \n",
       "19988      0      0      0         1           0            0  \n",
       "27156      0      0      0         1           0            0  \n",
       "28152      0      0      0         1           0            0  \n",
       "\n",
       "[5 rows x 47 columns]"
      ]
     },
     "execution_count": 46,
     "metadata": {},
     "output_type": "execute_result"
    }
   ],
   "source": [
    "data.head()"
   ]
  },
  {
   "cell_type": "code",
   "execution_count": 47,
   "id": "d45bc683",
   "metadata": {},
   "outputs": [
    {
     "data": {
      "text/html": [
       "<div>\n",
       "<style scoped>\n",
       "    .dataframe tbody tr th:only-of-type {\n",
       "        vertical-align: middle;\n",
       "    }\n",
       "\n",
       "    .dataframe tbody tr th {\n",
       "        vertical-align: top;\n",
       "    }\n",
       "\n",
       "    .dataframe thead th {\n",
       "        text-align: right;\n",
       "    }\n",
       "</style>\n",
       "<table border=\"1\" class=\"dataframe\">\n",
       "  <thead>\n",
       "    <tr style=\"text-align: right;\">\n",
       "      <th></th>\n",
       "      <th>age</th>\n",
       "      <th>day</th>\n",
       "      <th>duration</th>\n",
       "      <th>campaign</th>\n",
       "      <th>previous</th>\n",
       "      <th>subscribed</th>\n",
       "      <th>log_balance</th>\n",
       "      <th>J_Others</th>\n",
       "      <th>J_admin.</th>\n",
       "      <th>J_blue-collar</th>\n",
       "      <th>...</th>\n",
       "      <th>M_jul</th>\n",
       "      <th>M_jun</th>\n",
       "      <th>M_mar</th>\n",
       "      <th>M_may</th>\n",
       "      <th>M_nov</th>\n",
       "      <th>M_oct</th>\n",
       "      <th>M_sep</th>\n",
       "      <th>C_Others</th>\n",
       "      <th>C_cellular</th>\n",
       "      <th>C_telephone</th>\n",
       "    </tr>\n",
       "  </thead>\n",
       "  <tbody>\n",
       "    <tr>\n",
       "      <th>count</th>\n",
       "      <td>18988.000000</td>\n",
       "      <td>18988.000000</td>\n",
       "      <td>18988.000000</td>\n",
       "      <td>18988.000000</td>\n",
       "      <td>18988.000000</td>\n",
       "      <td>18988.000000</td>\n",
       "      <td>18988.000000</td>\n",
       "      <td>18988.000000</td>\n",
       "      <td>18988.000000</td>\n",
       "      <td>18988.000000</td>\n",
       "      <td>...</td>\n",
       "      <td>18988.000000</td>\n",
       "      <td>18988.000000</td>\n",
       "      <td>18988.000000</td>\n",
       "      <td>18988.000000</td>\n",
       "      <td>18988.000000</td>\n",
       "      <td>18988.000000</td>\n",
       "      <td>18988.000000</td>\n",
       "      <td>18988.000000</td>\n",
       "      <td>18988.000000</td>\n",
       "      <td>18988.00000</td>\n",
       "    </tr>\n",
       "    <tr>\n",
       "      <th>mean</th>\n",
       "      <td>40.865915</td>\n",
       "      <td>15.875395</td>\n",
       "      <td>250.777070</td>\n",
       "      <td>2.587634</td>\n",
       "      <td>0.517959</td>\n",
       "      <td>0.117074</td>\n",
       "      <td>4.849090</td>\n",
       "      <td>0.006583</td>\n",
       "      <td>0.111281</td>\n",
       "      <td>0.219454</td>\n",
       "      <td>...</td>\n",
       "      <td>0.152833</td>\n",
       "      <td>0.116337</td>\n",
       "      <td>0.010638</td>\n",
       "      <td>0.308037</td>\n",
       "      <td>0.087424</td>\n",
       "      <td>0.015852</td>\n",
       "      <td>0.013588</td>\n",
       "      <td>0.289288</td>\n",
       "      <td>0.646092</td>\n",
       "      <td>0.06462</td>\n",
       "    </tr>\n",
       "    <tr>\n",
       "      <th>std</th>\n",
       "      <td>10.420992</td>\n",
       "      <td>8.304690</td>\n",
       "      <td>216.978669</td>\n",
       "      <td>2.128306</td>\n",
       "      <td>1.483017</td>\n",
       "      <td>0.321517</td>\n",
       "      <td>3.844572</td>\n",
       "      <td>0.080871</td>\n",
       "      <td>0.314488</td>\n",
       "      <td>0.413888</td>\n",
       "      <td>...</td>\n",
       "      <td>0.359836</td>\n",
       "      <td>0.320637</td>\n",
       "      <td>0.102595</td>\n",
       "      <td>0.461694</td>\n",
       "      <td>0.282462</td>\n",
       "      <td>0.124907</td>\n",
       "      <td>0.115774</td>\n",
       "      <td>0.453444</td>\n",
       "      <td>0.478194</td>\n",
       "      <td>0.24586</td>\n",
       "    </tr>\n",
       "    <tr>\n",
       "      <th>min</th>\n",
       "      <td>18.000000</td>\n",
       "      <td>1.000000</td>\n",
       "      <td>0.000000</td>\n",
       "      <td>1.000000</td>\n",
       "      <td>0.000000</td>\n",
       "      <td>0.000000</td>\n",
       "      <td>-8.989569</td>\n",
       "      <td>0.000000</td>\n",
       "      <td>0.000000</td>\n",
       "      <td>0.000000</td>\n",
       "      <td>...</td>\n",
       "      <td>0.000000</td>\n",
       "      <td>0.000000</td>\n",
       "      <td>0.000000</td>\n",
       "      <td>0.000000</td>\n",
       "      <td>0.000000</td>\n",
       "      <td>0.000000</td>\n",
       "      <td>0.000000</td>\n",
       "      <td>0.000000</td>\n",
       "      <td>0.000000</td>\n",
       "      <td>0.00000</td>\n",
       "    </tr>\n",
       "    <tr>\n",
       "      <th>25%</th>\n",
       "      <td>33.000000</td>\n",
       "      <td>8.000000</td>\n",
       "      <td>104.000000</td>\n",
       "      <td>1.000000</td>\n",
       "      <td>0.000000</td>\n",
       "      <td>0.000000</td>\n",
       "      <td>4.262680</td>\n",
       "      <td>0.000000</td>\n",
       "      <td>0.000000</td>\n",
       "      <td>0.000000</td>\n",
       "      <td>...</td>\n",
       "      <td>0.000000</td>\n",
       "      <td>0.000000</td>\n",
       "      <td>0.000000</td>\n",
       "      <td>0.000000</td>\n",
       "      <td>0.000000</td>\n",
       "      <td>0.000000</td>\n",
       "      <td>0.000000</td>\n",
       "      <td>0.000000</td>\n",
       "      <td>0.000000</td>\n",
       "      <td>0.00000</td>\n",
       "    </tr>\n",
       "    <tr>\n",
       "      <th>50%</th>\n",
       "      <td>39.000000</td>\n",
       "      <td>16.000000</td>\n",
       "      <td>182.000000</td>\n",
       "      <td>2.000000</td>\n",
       "      <td>0.000000</td>\n",
       "      <td>0.000000</td>\n",
       "      <td>6.095825</td>\n",
       "      <td>0.000000</td>\n",
       "      <td>0.000000</td>\n",
       "      <td>0.000000</td>\n",
       "      <td>...</td>\n",
       "      <td>0.000000</td>\n",
       "      <td>0.000000</td>\n",
       "      <td>0.000000</td>\n",
       "      <td>0.000000</td>\n",
       "      <td>0.000000</td>\n",
       "      <td>0.000000</td>\n",
       "      <td>0.000000</td>\n",
       "      <td>0.000000</td>\n",
       "      <td>1.000000</td>\n",
       "      <td>0.00000</td>\n",
       "    </tr>\n",
       "    <tr>\n",
       "      <th>75%</th>\n",
       "      <td>48.000000</td>\n",
       "      <td>21.000000</td>\n",
       "      <td>320.000000</td>\n",
       "      <td>3.000000</td>\n",
       "      <td>0.000000</td>\n",
       "      <td>0.000000</td>\n",
       "      <td>7.259116</td>\n",
       "      <td>0.000000</td>\n",
       "      <td>0.000000</td>\n",
       "      <td>0.000000</td>\n",
       "      <td>...</td>\n",
       "      <td>0.000000</td>\n",
       "      <td>0.000000</td>\n",
       "      <td>0.000000</td>\n",
       "      <td>1.000000</td>\n",
       "      <td>0.000000</td>\n",
       "      <td>0.000000</td>\n",
       "      <td>0.000000</td>\n",
       "      <td>1.000000</td>\n",
       "      <td>1.000000</td>\n",
       "      <td>0.00000</td>\n",
       "    </tr>\n",
       "    <tr>\n",
       "      <th>max</th>\n",
       "      <td>70.000000</td>\n",
       "      <td>31.000000</td>\n",
       "      <td>1000.000000</td>\n",
       "      <td>10.000000</td>\n",
       "      <td>10.000000</td>\n",
       "      <td>1.000000</td>\n",
       "      <td>11.304720</td>\n",
       "      <td>1.000000</td>\n",
       "      <td>1.000000</td>\n",
       "      <td>1.000000</td>\n",
       "      <td>...</td>\n",
       "      <td>1.000000</td>\n",
       "      <td>1.000000</td>\n",
       "      <td>1.000000</td>\n",
       "      <td>1.000000</td>\n",
       "      <td>1.000000</td>\n",
       "      <td>1.000000</td>\n",
       "      <td>1.000000</td>\n",
       "      <td>1.000000</td>\n",
       "      <td>1.000000</td>\n",
       "      <td>1.00000</td>\n",
       "    </tr>\n",
       "  </tbody>\n",
       "</table>\n",
       "<p>8 rows × 47 columns</p>\n",
       "</div>"
      ],
      "text/plain": [
       "                age           day      duration      campaign      previous  \\\n",
       "count  18988.000000  18988.000000  18988.000000  18988.000000  18988.000000   \n",
       "mean      40.865915     15.875395    250.777070      2.587634      0.517959   \n",
       "std       10.420992      8.304690    216.978669      2.128306      1.483017   \n",
       "min       18.000000      1.000000      0.000000      1.000000      0.000000   \n",
       "25%       33.000000      8.000000    104.000000      1.000000      0.000000   \n",
       "50%       39.000000     16.000000    182.000000      2.000000      0.000000   \n",
       "75%       48.000000     21.000000    320.000000      3.000000      0.000000   \n",
       "max       70.000000     31.000000   1000.000000     10.000000     10.000000   \n",
       "\n",
       "         subscribed   log_balance      J_Others      J_admin.  J_blue-collar  \\\n",
       "count  18988.000000  18988.000000  18988.000000  18988.000000   18988.000000   \n",
       "mean       0.117074      4.849090      0.006583      0.111281       0.219454   \n",
       "std        0.321517      3.844572      0.080871      0.314488       0.413888   \n",
       "min        0.000000     -8.989569      0.000000      0.000000       0.000000   \n",
       "25%        0.000000      4.262680      0.000000      0.000000       0.000000   \n",
       "50%        0.000000      6.095825      0.000000      0.000000       0.000000   \n",
       "75%        0.000000      7.259116      0.000000      0.000000       0.000000   \n",
       "max        1.000000     11.304720      1.000000      1.000000       1.000000   \n",
       "\n",
       "       ...         M_jul         M_jun         M_mar         M_may  \\\n",
       "count  ...  18988.000000  18988.000000  18988.000000  18988.000000   \n",
       "mean   ...      0.152833      0.116337      0.010638      0.308037   \n",
       "std    ...      0.359836      0.320637      0.102595      0.461694   \n",
       "min    ...      0.000000      0.000000      0.000000      0.000000   \n",
       "25%    ...      0.000000      0.000000      0.000000      0.000000   \n",
       "50%    ...      0.000000      0.000000      0.000000      0.000000   \n",
       "75%    ...      0.000000      0.000000      0.000000      1.000000   \n",
       "max    ...      1.000000      1.000000      1.000000      1.000000   \n",
       "\n",
       "              M_nov         M_oct         M_sep      C_Others    C_cellular  \\\n",
       "count  18988.000000  18988.000000  18988.000000  18988.000000  18988.000000   \n",
       "mean       0.087424      0.015852      0.013588      0.289288      0.646092   \n",
       "std        0.282462      0.124907      0.115774      0.453444      0.478194   \n",
       "min        0.000000      0.000000      0.000000      0.000000      0.000000   \n",
       "25%        0.000000      0.000000      0.000000      0.000000      0.000000   \n",
       "50%        0.000000      0.000000      0.000000      0.000000      1.000000   \n",
       "75%        0.000000      0.000000      0.000000      1.000000      1.000000   \n",
       "max        1.000000      1.000000      1.000000      1.000000      1.000000   \n",
       "\n",
       "       C_telephone  \n",
       "count  18988.00000  \n",
       "mean       0.06462  \n",
       "std        0.24586  \n",
       "min        0.00000  \n",
       "25%        0.00000  \n",
       "50%        0.00000  \n",
       "75%        0.00000  \n",
       "max        1.00000  \n",
       "\n",
       "[8 rows x 47 columns]"
      ]
     },
     "execution_count": 47,
     "metadata": {},
     "output_type": "execute_result"
    }
   ],
   "source": [
    "data.describe()"
   ]
  },
  {
   "cell_type": "code",
   "execution_count": 48,
   "id": "56d7c7e3",
   "metadata": {},
   "outputs": [
    {
     "name": "stdout",
     "output_type": "stream",
     "text": [
      "<class 'pandas.core.frame.DataFrame'>\n",
      "Int64Index: 18988 entries, 610 to 2732\n",
      "Data columns (total 47 columns):\n",
      " #   Column           Non-Null Count  Dtype  \n",
      "---  ------           --------------  -----  \n",
      " 0   age              18988 non-null  int64  \n",
      " 1   day              18988 non-null  int64  \n",
      " 2   duration         18988 non-null  int64  \n",
      " 3   campaign         18988 non-null  int64  \n",
      " 4   previous         18988 non-null  int64  \n",
      " 5   subscribed       18988 non-null  int32  \n",
      " 6   log_balance      18988 non-null  float64\n",
      " 7   J_Others         18988 non-null  uint8  \n",
      " 8   J_admin.         18988 non-null  uint8  \n",
      " 9   J_blue-collar    18988 non-null  uint8  \n",
      " 10  J_entrepreneur   18988 non-null  uint8  \n",
      " 11  J_housemaid      18988 non-null  uint8  \n",
      " 12  J_management     18988 non-null  uint8  \n",
      " 13  J_retired        18988 non-null  uint8  \n",
      " 14  J_self-employed  18988 non-null  uint8  \n",
      " 15  J_services       18988 non-null  uint8  \n",
      " 16  J_student        18988 non-null  uint8  \n",
      " 17  J_technician     18988 non-null  uint8  \n",
      " 18  J_unemployed     18988 non-null  uint8  \n",
      " 19  M_divorced       18988 non-null  uint8  \n",
      " 20  M_married        18988 non-null  uint8  \n",
      " 21  M_single         18988 non-null  uint8  \n",
      " 22  E_primary        18988 non-null  uint8  \n",
      " 23  E_secondary      18988 non-null  uint8  \n",
      " 24  E_tertiary       18988 non-null  uint8  \n",
      " 25  E_unknown        18988 non-null  uint8  \n",
      " 26  D_no             18988 non-null  uint8  \n",
      " 27  D_yes            18988 non-null  uint8  \n",
      " 28  H_no             18988 non-null  uint8  \n",
      " 29  H_yes            18988 non-null  uint8  \n",
      " 30  L_no             18988 non-null  uint8  \n",
      " 31  L_yes            18988 non-null  uint8  \n",
      " 32  M_apr            18988 non-null  uint8  \n",
      " 33  M_aug            18988 non-null  uint8  \n",
      " 34  M_dec            18988 non-null  uint8  \n",
      " 35  M_feb            18988 non-null  uint8  \n",
      " 36  M_jan            18988 non-null  uint8  \n",
      " 37  M_jul            18988 non-null  uint8  \n",
      " 38  M_jun            18988 non-null  uint8  \n",
      " 39  M_mar            18988 non-null  uint8  \n",
      " 40  M_may            18988 non-null  uint8  \n",
      " 41  M_nov            18988 non-null  uint8  \n",
      " 42  M_oct            18988 non-null  uint8  \n",
      " 43  M_sep            18988 non-null  uint8  \n",
      " 44  C_Others         18988 non-null  uint8  \n",
      " 45  C_cellular       18988 non-null  uint8  \n",
      " 46  C_telephone      18988 non-null  uint8  \n",
      "dtypes: float64(1), int32(1), int64(5), uint8(40)\n",
      "memory usage: 1.8 MB\n"
     ]
    }
   ],
   "source": [
    "data.info()"
   ]
  },
  {
   "cell_type": "markdown",
   "id": "0ace400d",
   "metadata": {},
   "source": [
    "## Feature Selection"
   ]
  },
  {
   "cell_type": "markdown",
   "id": "8ed90ae8",
   "metadata": {},
   "source": [
    "### See which features are most important"
   ]
  },
  {
   "cell_type": "code",
   "execution_count": 49,
   "id": "184ae2d7",
   "metadata": {},
   "outputs": [
    {
     "name": "stderr",
     "output_type": "stream",
     "text": [
      "C:\\Users\\al-ghaly\\AppData\\Local\\Temp\\ipykernel_16532\\681195707.py:6: DataConversionWarning: A column-vector y was passed when a 1d array was expected. Please change the shape of y to (n_samples,), for example using ravel().\n",
      "  forest.fit(x, y)\n"
     ]
    }
   ],
   "source": [
    "new = transform(train)\n",
    "x = new.drop([\"subscribed\"], axis=1)\n",
    "y = new[['subscribed']]\n",
    "feature_names = [f\"{i}\" for i in x.columns]\n",
    "forest = RandomForestClassifier(random_state=0)\n",
    "forest.fit(x, y)\n",
    "importances = forest.feature_importances_"
   ]
  },
  {
   "cell_type": "code",
   "execution_count": 50,
   "id": "5dfb9fd1",
   "metadata": {},
   "outputs": [
    {
     "data": {
      "image/png": "[encoded data removed]",
      "text/plain": [
       "<Figure size 1800x800 with 1 Axes>"
      ]
     },
     "metadata": {},
     "output_type": "display_data"
    }
   ],
   "source": [
    "std = np.std([tree.feature_importances_ for tree in forest.estimators_], axis=0)\n",
    "forest_importances = pd.Series(importances, index=feature_names)\n",
    "fig, ax = plt.subplots(figsize=(18, 8))\n",
    "forest_importances.plot.bar(yerr=std, ax=ax)\n",
    "ax.set_title(\"Feature importances using MDI\")\n",
    "ax.set_ylabel(\"Mean decrease in impurity\")\n",
    "fig.tight_layout()"
   ]
  },
  {
   "cell_type": "markdown",
   "id": "0a159c80",
   "metadata": {},
   "source": [
    "# Modeling"
   ]
  },
  {
   "cell_type": "markdown",
   "id": "88282bd2",
   "metadata": {},
   "source": [
    "The modeling function"
   ]
  },
  {
   "cell_type": "code",
   "execution_count": 51,
   "id": "ecdeca3d",
   "metadata": {},
   "outputs": [],
   "source": [
    "def modeling(train_data: pd.DataFrame, test_data: pd.DataFrame):\n",
    "    \"\"\"\n",
    "    This function fits bunch of ML Regression models.\n",
    "    :param train_data: The training data for the model\n",
    "    :param test_data: data to test the model on\n",
    "    \"\"\"\n",
    "    # Get the training features\n",
    "    train_x = train_data.drop([\"subscribed\"], axis=1)\n",
    "    # Get the training labels\n",
    "    train_y = train_data[['subscribed']]\n",
    "    # Get the Test features and labels\n",
    "    test_x = test_data.drop([\"subscribed\"], axis=1)\n",
    "    test_y = test_data[['subscribed']]\n",
    "    \n",
    "    # Train a Logistic Regression Model\n",
    "    clf = LogisticRegression(random_state=0).fit(train_x, train_y)\n",
    "    y_pred_train = clf.predict(train_x)\n",
    "    y_pred_test = clf.predict(test_x)\n",
    "    train_score = round(accuracy_score(train_y, y_pred_train), 4)\n",
    "    test_score = round(accuracy_score(test_y, y_pred_test), 4)\n",
    "    print(f\"For the Logistic Regression Model the accuracy is: \\n {train_score} for Training data and {test_score} for test data\")\n",
    "    \n",
    "    # Train a Decision Tree Model\n",
    "    model = tree.DecisionTreeClassifier(random_state=0)\n",
    "    model = model.fit(train_x, train_y)\n",
    "    y_pred_test = model.predict(test_x)\n",
    "    y_pred_train = model.predict(train_x)\n",
    "    train_score = round(accuracy_score(train_y, y_pred_train), 4)\n",
    "    test_score = round(accuracy_score(test_y, y_pred_test), 4)\n",
    "    print(f\"For the Decision Tree Model the accuracy is: \\n {train_score} for Training data and {test_score} for test data\")\n",
    "    \n",
    "    # Train a Random Forrest model\n",
    "    model = RandomForestClassifier(random_state=0)\n",
    "    model = model.fit(train_x, train_y)\n",
    "    y_pred_test = model.predict(test_x)\n",
    "    y_pred_train = model.predict(train_x)\n",
    "    train_score = round(accuracy_score(train_y, y_pred_train), 4)\n",
    "    test_score = round(accuracy_score(test_y, y_pred_test), 4)\n",
    "    print(f\"For the Random Forrest Model the accuracy is: \\n {train_score} for Training data and {test_score} for test data\")\n",
    "    \n",
    "    # Train SVM Model\n",
    "    model = svm.SVC(random_state=0)\n",
    "    model = model.fit(train_x, train_y)\n",
    "    y_pred_test = model.predict(test_x)\n",
    "    y_pred_train = model.predict(train_x)\n",
    "    train_score = round(accuracy_score(train_y, y_pred_train), 4)\n",
    "    test_score = round(accuracy_score(test_y, y_pred_test), 4)\n",
    "    print(f\"For the SVM Model the accuracy is: \\n {train_score} for Training data and {test_score} for test data\")\n",
    "    \n",
    "    # Ada Boost Model\n",
    "    model = AdaBoostClassifier(n_estimators=100, random_state=0)\n",
    "    model = model.fit(train_x, train_y)\n",
    "    y_pred_test = model.predict(test_x)\n",
    "    y_pred_train = model.predict(train_x)\n",
    "    train_score = round(accuracy_score(train_y, y_pred_train), 4)\n",
    "    test_score = round(accuracy_score(test_y, y_pred_test), 4)\n",
    "    print(f\"For the Ada Boost Model the accuracy is: \\n {train_score} for Training data and {test_score} for test data\")\n",
    "    \n",
    "    # Boosting\n",
    "    model = GradientBoostingClassifier(n_estimators=100, learning_rate=1.0,\n",
    "    max_depth=1, random_state=0)\n",
    "    model = model.fit(train_x, train_y)\n",
    "    y_pred_test = model.predict(test_x)\n",
    "    y_pred_train = model.predict(train_x)\n",
    "    train_score = round(accuracy_score(train_y, y_pred_train), 4)\n",
    "    test_score = round(accuracy_score(test_y, y_pred_test), 4)\n",
    "    print(f\"For the Gradient Boosting Model the accuracy is: \\n {train_score} for Training data and {test_score} for test data\")\n",
    "    "
   ]
  },
  {
   "cell_type": "markdown",
   "id": "2e55fa7b",
   "metadata": {},
   "source": [
    "## Try with the default data cleaning"
   ]
  },
  {
   "cell_type": "code",
   "execution_count": 52,
   "id": "50512bd4",
   "metadata": {},
   "outputs": [
    {
     "name": "stderr",
     "output_type": "stream",
     "text": [
      "C:\\Users\\al-ghaly\\anaconda3\\lib\\site-packages\\sklearn\\utils\\validation.py:1143: DataConversionWarning: A column-vector y was passed when a 1d array was expected. Please change the shape of y to (n_samples, ), for example using ravel().\n",
      "  y = column_or_1d(y, warn=True)\n",
      "C:\\Users\\al-ghaly\\anaconda3\\lib\\site-packages\\sklearn\\linear_model\\_logistic.py:458: ConvergenceWarning: lbfgs failed to converge (status=1):\n",
      "STOP: TOTAL NO. of ITERATIONS REACHED LIMIT.\n",
      "\n",
      "Increase the number of iterations (max_iter) or scale the data as shown in:\n",
      "    https://scikit-learn.org/stable/modules/preprocessing.html\n",
      "Please also refer to the documentation for alternative solver options:\n",
      "    https://scikit-learn.org/stable/modules/linear_model.html#logistic-regression\n",
      "  n_iter_i = _check_optimize_result(\n"
     ]
    },
    {
     "name": "stdout",
     "output_type": "stream",
     "text": [
      "For the Logistic Regression Model the accuracy is: \n",
      " 0.8889 for Training data and 0.8952 for test data\n",
      "For the Decision Tree Model the accuracy is: \n",
      " 1.0 for Training data and 0.8719 for test data\n"
     ]
    },
    {
     "name": "stderr",
     "output_type": "stream",
     "text": [
      "C:\\Users\\al-ghaly\\AppData\\Local\\Temp\\ipykernel_16532\\4261365229.py:34: DataConversionWarning: A column-vector y was passed when a 1d array was expected. Please change the shape of y to (n_samples,), for example using ravel().\n",
      "  model = model.fit(train_x, train_y)\n"
     ]
    },
    {
     "name": "stdout",
     "output_type": "stream",
     "text": [
      "For the Random Forrest Model the accuracy is: \n",
      " 1.0 for Training data and 0.9036 for test data\n"
     ]
    },
    {
     "name": "stderr",
     "output_type": "stream",
     "text": [
      "C:\\Users\\al-ghaly\\anaconda3\\lib\\site-packages\\sklearn\\utils\\validation.py:1143: DataConversionWarning: A column-vector y was passed when a 1d array was expected. Please change the shape of y to (n_samples, ), for example using ravel().\n",
      "  y = column_or_1d(y, warn=True)\n"
     ]
    },
    {
     "name": "stdout",
     "output_type": "stream",
     "text": [
      "For the SVM Model the accuracy is: \n",
      " 0.8884 for Training data and 0.8932 for test data\n"
     ]
    },
    {
     "name": "stderr",
     "output_type": "stream",
     "text": [
      "C:\\Users\\al-ghaly\\anaconda3\\lib\\site-packages\\sklearn\\utils\\validation.py:1143: DataConversionWarning: A column-vector y was passed when a 1d array was expected. Please change the shape of y to (n_samples, ), for example using ravel().\n",
      "  y = column_or_1d(y, warn=True)\n"
     ]
    },
    {
     "name": "stdout",
     "output_type": "stream",
     "text": [
      "For the Ada Boost Model the accuracy is: \n",
      " 0.8971 for Training data and 0.894 for test data\n"
     ]
    },
    {
     "name": "stderr",
     "output_type": "stream",
     "text": [
      "C:\\Users\\al-ghaly\\anaconda3\\lib\\site-packages\\sklearn\\ensemble\\_gb.py:437: DataConversionWarning: A column-vector y was passed when a 1d array was expected. Please change the shape of y to (n_samples, ), for example using ravel().\n",
      "  y = column_or_1d(y, warn=True)\n"
     ]
    },
    {
     "name": "stdout",
     "output_type": "stream",
     "text": [
      "For the Gradient Boosting Model the accuracy is: \n",
      " 0.8993 for Training data and 0.896 for test data\n"
     ]
    }
   ],
   "source": [
    "train_data = transform(train)\n",
    "test_data = transform(test)\n",
    "modeling(train_data, test_data)"
   ]
  },
  {
   "cell_type": "markdown",
   "id": "66b6ca6a",
   "metadata": {},
   "source": [
    "### We got average accuracy of 89.1% on test data"
   ]
  },
  {
   "cell_type": "markdown",
   "id": "152145db",
   "metadata": {},
   "source": [
    "After trying to enter the poutcome into the model the accuracy decreased so don't need that"
   ]
  },
  {
   "cell_type": "code",
   "execution_count": 53,
   "id": "2bea485d",
   "metadata": {},
   "outputs": [
    {
     "name": "stderr",
     "output_type": "stream",
     "text": [
      "C:\\Users\\al-ghaly\\anaconda3\\lib\\site-packages\\sklearn\\utils\\validation.py:1143: DataConversionWarning: A column-vector y was passed when a 1d array was expected. Please change the shape of y to (n_samples, ), for example using ravel().\n",
      "  y = column_or_1d(y, warn=True)\n",
      "C:\\Users\\al-ghaly\\anaconda3\\lib\\site-packages\\sklearn\\linear_model\\_logistic.py:458: ConvergenceWarning: lbfgs failed to converge (status=1):\n",
      "STOP: TOTAL NO. of ITERATIONS REACHED LIMIT.\n",
      "\n",
      "Increase the number of iterations (max_iter) or scale the data as shown in:\n",
      "    https://scikit-learn.org/stable/modules/preprocessing.html\n",
      "Please also refer to the documentation for alternative solver options:\n",
      "    https://scikit-learn.org/stable/modules/linear_model.html#logistic-regression\n",
      "  n_iter_i = _check_optimize_result(\n"
     ]
    },
    {
     "name": "stdout",
     "output_type": "stream",
     "text": [
      "For the Logistic Regression Model the accuracy is: \n",
      " 0.8941 for Training data and 0.8974 for test data\n",
      "For the Decision Tree Model the accuracy is: \n",
      " 1.0 for Training data and 0.8741 for test data\n"
     ]
    },
    {
     "name": "stderr",
     "output_type": "stream",
     "text": [
      "C:\\Users\\al-ghaly\\AppData\\Local\\Temp\\ipykernel_16532\\4261365229.py:34: DataConversionWarning: A column-vector y was passed when a 1d array was expected. Please change the shape of y to (n_samples,), for example using ravel().\n",
      "  model = model.fit(train_x, train_y)\n"
     ]
    },
    {
     "name": "stdout",
     "output_type": "stream",
     "text": [
      "For the Random Forrest Model the accuracy is: \n",
      " 0.9998 for Training data and 0.9046 for test data\n"
     ]
    },
    {
     "name": "stderr",
     "output_type": "stream",
     "text": [
      "C:\\Users\\al-ghaly\\anaconda3\\lib\\site-packages\\sklearn\\utils\\validation.py:1143: DataConversionWarning: A column-vector y was passed when a 1d array was expected. Please change the shape of y to (n_samples, ), for example using ravel().\n",
      "  y = column_or_1d(y, warn=True)\n"
     ]
    },
    {
     "name": "stdout",
     "output_type": "stream",
     "text": [
      "For the SVM Model the accuracy is: \n",
      " 0.8919 for Training data and 0.8955 for test data\n"
     ]
    },
    {
     "name": "stderr",
     "output_type": "stream",
     "text": [
      "C:\\Users\\al-ghaly\\anaconda3\\lib\\site-packages\\sklearn\\utils\\validation.py:1143: DataConversionWarning: A column-vector y was passed when a 1d array was expected. Please change the shape of y to (n_samples, ), for example using ravel().\n",
      "  y = column_or_1d(y, warn=True)\n"
     ]
    },
    {
     "name": "stdout",
     "output_type": "stream",
     "text": [
      "For the Ada Boost Model the accuracy is: \n",
      " 0.8998 for Training data and 0.8991 for test data\n"
     ]
    },
    {
     "name": "stderr",
     "output_type": "stream",
     "text": [
      "C:\\Users\\al-ghaly\\anaconda3\\lib\\site-packages\\sklearn\\ensemble\\_gb.py:437: DataConversionWarning: A column-vector y was passed when a 1d array was expected. Please change the shape of y to (n_samples, ), for example using ravel().\n",
      "  y = column_or_1d(y, warn=True)\n"
     ]
    },
    {
     "name": "stdout",
     "output_type": "stream",
     "text": [
      "For the Gradient Boosting Model the accuracy is: \n",
      " 0.9039 for Training data and 0.899 for test data\n"
     ]
    }
   ],
   "source": [
    "train_data = transform(train, trim_age=True)\n",
    "test_data = transform(test, trim_age=True)\n",
    "modeling(train_data, test_data)"
   ]
  },
  {
   "cell_type": "markdown",
   "id": "1b880b1f",
   "metadata": {},
   "source": [
    "### We got average accuracy of 89.5% on test data"
   ]
  },
  {
   "cell_type": "code",
   "execution_count": 54,
   "id": "7e528d88",
   "metadata": {},
   "outputs": [
    {
     "name": "stderr",
     "output_type": "stream",
     "text": [
      "C:\\Users\\al-ghaly\\anaconda3\\lib\\site-packages\\sklearn\\utils\\validation.py:1143: DataConversionWarning: A column-vector y was passed when a 1d array was expected. Please change the shape of y to (n_samples, ), for example using ravel().\n",
      "  y = column_or_1d(y, warn=True)\n",
      "C:\\Users\\al-ghaly\\anaconda3\\lib\\site-packages\\sklearn\\linear_model\\_logistic.py:458: ConvergenceWarning: lbfgs failed to converge (status=1):\n",
      "STOP: TOTAL NO. of ITERATIONS REACHED LIMIT.\n",
      "\n",
      "Increase the number of iterations (max_iter) or scale the data as shown in:\n",
      "    https://scikit-learn.org/stable/modules/preprocessing.html\n",
      "Please also refer to the documentation for alternative solver options:\n",
      "    https://scikit-learn.org/stable/modules/linear_model.html#logistic-regression\n",
      "  n_iter_i = _check_optimize_result(\n"
     ]
    },
    {
     "name": "stdout",
     "output_type": "stream",
     "text": [
      "For the Logistic Regression Model the accuracy is: \n",
      " 0.8979 for Training data and 0.9022 for test data\n",
      "For the Decision Tree Model the accuracy is: \n",
      " 1.0 for Training data and 0.8844 for test data\n"
     ]
    },
    {
     "name": "stderr",
     "output_type": "stream",
     "text": [
      "C:\\Users\\al-ghaly\\AppData\\Local\\Temp\\ipykernel_16532\\4261365229.py:34: DataConversionWarning: A column-vector y was passed when a 1d array was expected. Please change the shape of y to (n_samples,), for example using ravel().\n",
      "  model = model.fit(train_x, train_y)\n"
     ]
    },
    {
     "name": "stdout",
     "output_type": "stream",
     "text": [
      "For the Random Forrest Model the accuracy is: \n",
      " 1.0 for Training data and 0.9095 for test data\n"
     ]
    },
    {
     "name": "stderr",
     "output_type": "stream",
     "text": [
      "C:\\Users\\al-ghaly\\anaconda3\\lib\\site-packages\\sklearn\\utils\\validation.py:1143: DataConversionWarning: A column-vector y was passed when a 1d array was expected. Please change the shape of y to (n_samples, ), for example using ravel().\n",
      "  y = column_or_1d(y, warn=True)\n"
     ]
    },
    {
     "name": "stdout",
     "output_type": "stream",
     "text": [
      "For the SVM Model the accuracy is: \n",
      " 0.8952 for Training data and 0.9007 for test data\n"
     ]
    },
    {
     "name": "stderr",
     "output_type": "stream",
     "text": [
      "C:\\Users\\al-ghaly\\anaconda3\\lib\\site-packages\\sklearn\\utils\\validation.py:1143: DataConversionWarning: A column-vector y was passed when a 1d array was expected. Please change the shape of y to (n_samples, ), for example using ravel().\n",
      "  y = column_or_1d(y, warn=True)\n"
     ]
    },
    {
     "name": "stdout",
     "output_type": "stream",
     "text": [
      "For the Ada Boost Model the accuracy is: \n",
      " 0.9046 for Training data and 0.9044 for test data\n"
     ]
    },
    {
     "name": "stderr",
     "output_type": "stream",
     "text": [
      "C:\\Users\\al-ghaly\\anaconda3\\lib\\site-packages\\sklearn\\ensemble\\_gb.py:437: DataConversionWarning: A column-vector y was passed when a 1d array was expected. Please change the shape of y to (n_samples, ), for example using ravel().\n",
      "  y = column_or_1d(y, warn=True)\n"
     ]
    },
    {
     "name": "stdout",
     "output_type": "stream",
     "text": [
      "For the Gradient Boosting Model the accuracy is: \n",
      " 0.9081 for Training data and 0.9043 for test data\n"
     ]
    }
   ],
   "source": [
    "train_data = transform(train, trim_long_calls=True)\n",
    "test_data = transform(test, trim_long_calls=True)\n",
    "modeling(train_data, test_data)"
   ]
  },
  {
   "cell_type": "markdown",
   "id": "73c685fe",
   "metadata": {},
   "source": [
    "### We got average accuracy of 90.65% on test data"
   ]
  },
  {
   "cell_type": "code",
   "execution_count": 55,
   "id": "78f21c52",
   "metadata": {},
   "outputs": [
    {
     "name": "stderr",
     "output_type": "stream",
     "text": [
      "C:\\Users\\al-ghaly\\anaconda3\\lib\\site-packages\\sklearn\\utils\\validation.py:1143: DataConversionWarning: A column-vector y was passed when a 1d array was expected. Please change the shape of y to (n_samples, ), for example using ravel().\n",
      "  y = column_or_1d(y, warn=True)\n",
      "C:\\Users\\al-ghaly\\anaconda3\\lib\\site-packages\\sklearn\\linear_model\\_logistic.py:458: ConvergenceWarning: lbfgs failed to converge (status=1):\n",
      "STOP: TOTAL NO. of ITERATIONS REACHED LIMIT.\n",
      "\n",
      "Increase the number of iterations (max_iter) or scale the data as shown in:\n",
      "    https://scikit-learn.org/stable/modules/preprocessing.html\n",
      "Please also refer to the documentation for alternative solver options:\n",
      "    https://scikit-learn.org/stable/modules/linear_model.html#logistic-regression\n",
      "  n_iter_i = _check_optimize_result(\n"
     ]
    },
    {
     "name": "stdout",
     "output_type": "stream",
     "text": [
      "For the Logistic Regression Model the accuracy is: \n",
      " 0.901 for Training data and 0.9024 for test data\n",
      "For the Decision Tree Model the accuracy is: \n",
      " 1.0 for Training data and 0.8824 for test data\n"
     ]
    },
    {
     "name": "stderr",
     "output_type": "stream",
     "text": [
      "C:\\Users\\al-ghaly\\AppData\\Local\\Temp\\ipykernel_16532\\4261365229.py:34: DataConversionWarning: A column-vector y was passed when a 1d array was expected. Please change the shape of y to (n_samples,), for example using ravel().\n",
      "  model = model.fit(train_x, train_y)\n"
     ]
    },
    {
     "name": "stdout",
     "output_type": "stream",
     "text": [
      "For the Random Forrest Model the accuracy is: \n",
      " 1.0 for Training data and 0.9125 for test data\n"
     ]
    },
    {
     "name": "stderr",
     "output_type": "stream",
     "text": [
      "C:\\Users\\al-ghaly\\anaconda3\\lib\\site-packages\\sklearn\\utils\\validation.py:1143: DataConversionWarning: A column-vector y was passed when a 1d array was expected. Please change the shape of y to (n_samples, ), for example using ravel().\n",
      "  y = column_or_1d(y, warn=True)\n"
     ]
    },
    {
     "name": "stdout",
     "output_type": "stream",
     "text": [
      "For the SVM Model the accuracy is: \n",
      " 0.8978 for Training data and 0.9016 for test data\n"
     ]
    },
    {
     "name": "stderr",
     "output_type": "stream",
     "text": [
      "C:\\Users\\al-ghaly\\anaconda3\\lib\\site-packages\\sklearn\\utils\\validation.py:1143: DataConversionWarning: A column-vector y was passed when a 1d array was expected. Please change the shape of y to (n_samples, ), for example using ravel().\n",
      "  y = column_or_1d(y, warn=True)\n"
     ]
    },
    {
     "name": "stdout",
     "output_type": "stream",
     "text": [
      "For the Ada Boost Model the accuracy is: \n",
      " 0.9081 for Training data and 0.9058 for test data\n"
     ]
    },
    {
     "name": "stderr",
     "output_type": "stream",
     "text": [
      "C:\\Users\\al-ghaly\\anaconda3\\lib\\site-packages\\sklearn\\ensemble\\_gb.py:437: DataConversionWarning: A column-vector y was passed when a 1d array was expected. Please change the shape of y to (n_samples, ), for example using ravel().\n",
      "  y = column_or_1d(y, warn=True)\n"
     ]
    },
    {
     "name": "stdout",
     "output_type": "stream",
     "text": [
      "For the Gradient Boosting Model the accuracy is: \n",
      " 0.911 for Training data and 0.9056 for test data\n"
     ]
    }
   ],
   "source": [
    "train_data = transform(train, trim_age=True, trim_long_calls=True, log_transformation=False)\n",
    "test_data = transform(test, trim_age=True, trim_long_calls=True, log_transformation=False)\n",
    "modeling(train_data, test_data)"
   ]
  },
  {
   "cell_type": "markdown",
   "id": "9bde0dce",
   "metadata": {},
   "source": [
    "### We got average accuracy of 90.17% on test data"
   ]
  },
  {
   "cell_type": "markdown",
   "id": "cf7841a0",
   "metadata": {},
   "source": [
    "## The best data cleaning is to trim long calls, apply log transformation on balance for a Random Forest Model."
   ]
  },
  {
   "cell_type": "markdown",
   "id": "f01cf9bf",
   "metadata": {},
   "source": [
    "# Time to test on validation data"
   ]
  },
  {
   "cell_type": "code",
   "execution_count": 56,
   "id": "db61414a",
   "metadata": {},
   "outputs": [],
   "source": [
    "train_data = transform(train, trim_long_calls=True, log_transformation=True) \n",
    "val_data = transform(val, trim_long_calls=True, log_transformation=True)"
   ]
  },
  {
   "cell_type": "code",
   "execution_count": 57,
   "id": "f5bb2220",
   "metadata": {},
   "outputs": [],
   "source": [
    "# Get the training features\n",
    "train_x = train_data.drop([\"subscribed\"], axis=1)\n",
    "# Get the training labels\n",
    "train_y = train_data[['subscribed']]\n",
    "# Get the validation features and labels\n",
    "features = val_data.drop([\"subscribed\"], axis=1)\n",
    "y_actual = val_data[['subscribed']]"
   ]
  },
  {
   "cell_type": "code",
   "execution_count": 58,
   "id": "d21fb19a",
   "metadata": {},
   "outputs": [
    {
     "name": "stderr",
     "output_type": "stream",
     "text": [
      "C:\\Users\\al-ghaly\\AppData\\Local\\Temp\\ipykernel_16532\\2642998955.py:3: DataConversionWarning: A column-vector y was passed when a 1d array was expected. Please change the shape of y to (n_samples,), for example using ravel().\n",
      "  model = model.fit(train_x, train_y)\n"
     ]
    },
    {
     "name": "stdout",
     "output_type": "stream",
     "text": [
      "We have achieved 88.53 % accuracy\n"
     ]
    }
   ],
   "source": [
    "# Train a Random Forrest model\n",
    "model = RandomForestClassifier(random_state=0)\n",
    "model = model.fit(train_x, train_y)\n",
    "y_pred = model.predict(features)\n",
    "score = round(f1_score(y_actual, y_pred, average='weighted'), 4)\n",
    "print(f\"We have achieved {round(score, 4) * 100} % accuracy\")"
   ]
  },
  {
   "cell_type": "markdown",
   "id": "36ac5d00",
   "metadata": {},
   "source": [
    "<hr style=\"border-top: 15px solid #bbb;\">"
   ]
  }
 ],
 "metadata": {
  "kernelspec": {
   "display_name": "Python 3 (ipykernel)",
   "language": "python",
   "name": "python3"
  },
  "language_info": {
   "codemirror_mode": {
    "name": "ipython",
    "version": 3
   },
   "file_extension": ".py",
   "mimetype": "text/x-python",
   "name": "python",
   "nbconvert_exporter": "python",
   "pygments_lexer": "ipython3",
   "version": "3.10.9"
  }
 },
 "nbformat": 4,
 "nbformat_minor": 5
}
